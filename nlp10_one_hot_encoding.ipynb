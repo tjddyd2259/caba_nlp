{
  "nbformat": 4,
  "nbformat_minor": 0,
  "metadata": {
    "colab": {
      "name": "nlp10_one_hot_encoding.ipynb",
      "provenance": [],
      "authorship_tag": "ABX9TyOQ5dDn4RutoRuULcfYIrkP",
      "include_colab_link": true
    },
    "kernelspec": {
      "name": "python3",
      "display_name": "Python 3"
    }
  },
  "cells": [
    {
      "cell_type": "markdown",
      "metadata": {
        "id": "view-in-github",
        "colab_type": "text"
      },
      "source": [
        "<a href=\"https://colab.research.google.com/github/tjddyd2259/caba_nlp/blob/main/nlp10_one_hot_encoding.ipynb\" target=\"_parent\"><img src=\"https://colab.research.google.com/assets/colab-badge.svg\" alt=\"Open In Colab\"/></a>"
      ]
    },
    {
      "cell_type": "markdown",
      "metadata": {
        "id": "WJ7uUVVhLpR7"
      },
      "source": [
        "넘파이를 이용한 원-핫 인코딩\r\n",
        "\r\n",
        "- 원-핫 인코딩은 토큰을 벡터로 변환하는 가장 일반적이고 기본적인 방법입니다. \r\n",
        "- 모든 단어에 고유한 정수 인덱스를 부여하고 이 정수 인덱스 i를 크기가 N(어휘 사전의 크기)인 이진 벡터로 변환합니다. \r\n",
        "- 이 벡터는 i번째 원소만 1이고 나머지는 모두 0입니다.\r\n",
        "\r\n",
        "- 물론 원-핫 인코딩은 문자 수준에서도 적용할 수 있습니다. "
      ]
    },
    {
      "cell_type": "code",
      "metadata": {
        "id": "ZId5FRZTLnhf"
      },
      "source": [
        "# 단어 수준 원-핫 인코딩\r\n",
        "import numpy as np\r\n",
        "\r\n",
        "samples = ['The cat sat on the mat.','The dog ate my homework.']\r\n",
        "token_index = {}\r\n",
        "for sample in samples:\r\n",
        "  for word in sample.split():\r\n",
        "    if word not in token_index:\r\n",
        "      token_index[word] = len(token_index) + 1 # 인덱스 0은 사용하지 않는다.\r\n",
        "max_length = 10\r\n",
        "# 결과를 저장할 배열\r\n",
        "results = np.zeros((len(samples),max_length,max(token_index.values())+1)) # 3차원 (2,10,11)\r\n",
        "\r\n",
        "for i, sample in enumerate(samples):\r\n",
        "  for j, word in list(enumerate(sample.split()))[:max_length]:\r\n",
        "    index = token_index.get(word)\r\n",
        "    results[i,j,index] = 1."
      ],
      "execution_count": 1,
      "outputs": []
    },
    {
      "cell_type": "code",
      "metadata": {
        "colab": {
          "base_uri": "https://localhost:8080/"
        },
        "id": "w8727vPzLner",
        "outputId": "6477bec6-cbf4-444b-a207-0fbf9fe01c7c"
      },
      "source": [
        "results"
      ],
      "execution_count": 2,
      "outputs": [
        {
          "output_type": "execute_result",
          "data": {
            "text/plain": [
              "array([[[0., 1., 0., 0., 0., 0., 0., 0., 0., 0., 0.],\n",
              "        [0., 0., 1., 0., 0., 0., 0., 0., 0., 0., 0.],\n",
              "        [0., 0., 0., 1., 0., 0., 0., 0., 0., 0., 0.],\n",
              "        [0., 0., 0., 0., 1., 0., 0., 0., 0., 0., 0.],\n",
              "        [0., 0., 0., 0., 0., 1., 0., 0., 0., 0., 0.],\n",
              "        [0., 0., 0., 0., 0., 0., 1., 0., 0., 0., 0.],\n",
              "        [0., 0., 0., 0., 0., 0., 0., 0., 0., 0., 0.],\n",
              "        [0., 0., 0., 0., 0., 0., 0., 0., 0., 0., 0.],\n",
              "        [0., 0., 0., 0., 0., 0., 0., 0., 0., 0., 0.],\n",
              "        [0., 0., 0., 0., 0., 0., 0., 0., 0., 0., 0.]],\n",
              "\n",
              "       [[0., 1., 0., 0., 0., 0., 0., 0., 0., 0., 0.],\n",
              "        [0., 0., 0., 0., 0., 0., 0., 1., 0., 0., 0.],\n",
              "        [0., 0., 0., 0., 0., 0., 0., 0., 1., 0., 0.],\n",
              "        [0., 0., 0., 0., 0., 0., 0., 0., 0., 1., 0.],\n",
              "        [0., 0., 0., 0., 0., 0., 0., 0., 0., 0., 1.],\n",
              "        [0., 0., 0., 0., 0., 0., 0., 0., 0., 0., 0.],\n",
              "        [0., 0., 0., 0., 0., 0., 0., 0., 0., 0., 0.],\n",
              "        [0., 0., 0., 0., 0., 0., 0., 0., 0., 0., 0.],\n",
              "        [0., 0., 0., 0., 0., 0., 0., 0., 0., 0., 0.],\n",
              "        [0., 0., 0., 0., 0., 0., 0., 0., 0., 0., 0.]]])"
            ]
          },
          "metadata": {
            "tags": []
          },
          "execution_count": 2
        }
      ]
    },
    {
      "cell_type": "code",
      "metadata": {
        "colab": {
          "base_uri": "https://localhost:8080/"
        },
        "id": "zwI0XMYBLncL",
        "outputId": "bd8d8d27-29f7-4615-85fa-ade83dea5239"
      },
      "source": [
        "max(token_index.values())+1\r\n",
        "token_index.values()"
      ],
      "execution_count": 3,
      "outputs": [
        {
          "output_type": "execute_result",
          "data": {
            "text/plain": [
              "dict_values([1, 2, 3, 4, 5, 6, 7, 8, 9, 10])"
            ]
          },
          "metadata": {
            "tags": []
          },
          "execution_count": 3
        }
      ]
    },
    {
      "cell_type": "code",
      "metadata": {
        "colab": {
          "base_uri": "https://localhost:8080/"
        },
        "id": "hu9WpP5aLnZi",
        "outputId": "766cf7f3-f1f2-42ce-f19c-d37cec0dc462"
      },
      "source": [
        "token_index"
      ],
      "execution_count": 4,
      "outputs": [
        {
          "output_type": "execute_result",
          "data": {
            "text/plain": [
              "{'The': 1,\n",
              " 'ate': 8,\n",
              " 'cat': 2,\n",
              " 'dog': 7,\n",
              " 'homework.': 10,\n",
              " 'mat.': 6,\n",
              " 'my': 9,\n",
              " 'on': 4,\n",
              " 'sat': 3,\n",
              " 'the': 5}"
            ]
          },
          "metadata": {
            "tags": []
          },
          "execution_count": 4
        }
      ]
    },
    {
      "cell_type": "code",
      "metadata": {
        "id": "sBaRqglHLnW6"
      },
      "source": [
        "import string\r\n",
        "characters = string.printable # 출력 가능한 모든 아스키 문자\r\n",
        "token_index = dict(zip(characters,range(1,len(characters)+1)))\r\n",
        "\r\n",
        "max_length = 50\r\n",
        "results = np.zeros((len(samples),max_length,max(token_index.values())+1))\r\n",
        "for i, sample in enumerate(samples):\r\n",
        "  for j, character in enumerate(sample[:max_length]):\r\n",
        "    index = token_index.get(character)\r\n",
        "    results[i,j,index] = 1."
      ],
      "execution_count": 6,
      "outputs": []
    },
    {
      "cell_type": "code",
      "metadata": {
        "colab": {
          "base_uri": "https://localhost:8080/"
        },
        "id": "qGibnL58LnUW",
        "outputId": "f5fd6b49-938a-4981-cb6f-96a54d6ce1c2"
      },
      "source": [
        "results"
      ],
      "execution_count": 7,
      "outputs": [
        {
          "output_type": "execute_result",
          "data": {
            "text/plain": [
              "array([[[0., 0., 0., ..., 0., 0., 0.],\n",
              "        [0., 0., 0., ..., 0., 0., 0.],\n",
              "        [0., 0., 0., ..., 0., 0., 0.],\n",
              "        ...,\n",
              "        [0., 0., 0., ..., 0., 0., 0.],\n",
              "        [0., 0., 0., ..., 0., 0., 0.],\n",
              "        [0., 0., 0., ..., 0., 0., 0.]],\n",
              "\n",
              "       [[0., 0., 0., ..., 0., 0., 0.],\n",
              "        [0., 0., 0., ..., 0., 0., 0.],\n",
              "        [0., 0., 0., ..., 0., 0., 0.],\n",
              "        ...,\n",
              "        [0., 0., 0., ..., 0., 0., 0.],\n",
              "        [0., 0., 0., ..., 0., 0., 0.],\n",
              "        [0., 0., 0., ..., 0., 0., 0.]]])"
            ]
          },
          "metadata": {
            "tags": []
          },
          "execution_count": 7
        }
      ]
    },
    {
      "cell_type": "markdown",
      "metadata": {
        "id": "Jt0UuJWRNRTd"
      },
      "source": [
        "### 케라스를 사용한 원-핫 인코딩\r\n",
        "\r\n",
        "- Keras는 여러 텍스트 문서를 준비하는 데 적합하고 재사용 할 수 있는 텍스트 준비를 위한 보다 정교한 API를 제공합니다.\r\n",
        "- Keras는 딥러닝을 위해 텍스트 문서를 준비하기 위한 Tokenizer 클래스를 제공합니다 . \r\n",
        "- Tokenizer를 구축하고 원시 텍스트 문서 또는 정수로 인코딩합니다.\r\n",
        "- Tokenizer가 학습 데이터에 적합하면  테스트 데이터세트의 문서를 인코딩하는 데 사용할 수 있습니다. \r\n",
        "- Tokenizer의 texts_to_matrix () 함수는 입력별로 제공되는 문서 당 하나의 벡터를 만드는 데 사용할 수 있습니다. 벡터의 길이는 어휘의 전체 크기입니다.\r\n",
        "- 이 함수는 함수에 대한 모드 인수를 통해 제공될 수 있는 표준 bag-of-word 모델 텍스트 인코딩 체계 모음을 제공"
      ]
    },
    {
      "cell_type": "code",
      "metadata": {
        "colab": {
          "base_uri": "https://localhost:8080/"
        },
        "id": "HKUCFYRK3NYp",
        "outputId": "8ca8e066-d579-475e-d299-1dfcd4a2fe43"
      },
      "source": [
        "from keras.preprocessing.text import Tokenizer\r\n",
        "\r\n",
        "samples = ['The cat sat on the mat.','The dog ate my homework.']\r\n",
        "# 가장 빈도가 높은 1000개의 단어만 선택하도록 tokenizer 객체를 생성\r\n",
        "tokenizer = Tokenizer(num_words=1000)\r\n",
        "# 단어 인덱스를 구축\r\n",
        "tokenizer.fit_on_texts(samples)\r\n",
        "\r\n",
        "# 문자열을 정수 인덱스의 리스트로 변환\r\n",
        "sequences = tokenizer.texts_to_sequences(samples)\r\n",
        "\r\n",
        "one_hot_results = tokenizer.texts_to_matrix(samples,mode='binary')\r\n",
        "\r\n",
        "# 계산된 단어 인덱스를 도출\r\n",
        "word_index = tokenizer.word_index\r\n",
        "print('found %s unique tokens' % len(word_index))"
      ],
      "execution_count": 8,
      "outputs": [
        {
          "output_type": "stream",
          "text": [
            "found 9 unique tokens\n"
          ],
          "name": "stdout"
        }
      ]
    },
    {
      "cell_type": "code",
      "metadata": {
        "colab": {
          "base_uri": "https://localhost:8080/"
        },
        "id": "O6GUxZV36Rnc",
        "outputId": "708c9b51-e321-4d36-891b-4fb051a3330b"
      },
      "source": [
        "print(sequences)\r\n",
        "print(one_hot_results)\r\n",
        "print(word_index)"
      ],
      "execution_count": 9,
      "outputs": [
        {
          "output_type": "stream",
          "text": [
            "[[1, 2, 3, 4, 1, 5], [1, 6, 7, 8, 9]]\n",
            "[[0. 1. 1. ... 0. 0. 0.]\n",
            " [0. 1. 0. ... 0. 0. 0.]]\n",
            "{'the': 1, 'cat': 2, 'sat': 3, 'on': 4, 'mat': 5, 'dog': 6, 'ate': 7, 'my': 8, 'homework': 9}\n"
          ],
          "name": "stdout"
        }
      ]
    },
    {
      "cell_type": "code",
      "metadata": {
        "id": "UN5PjNRp7fLf",
        "colab": {
          "base_uri": "https://localhost:8080/"
        },
        "outputId": "4653e031-9112-40a5-e412-648fc84e12d2"
      },
      "source": [
        "one_hot_results[0][:10]"
      ],
      "execution_count": 10,
      "outputs": [
        {
          "output_type": "execute_result",
          "data": {
            "text/plain": [
              "array([0., 1., 1., 1., 1., 1., 0., 0., 0., 0.])"
            ]
          },
          "metadata": {
            "tags": []
          },
          "execution_count": 10
        }
      ]
    }
  ]
}