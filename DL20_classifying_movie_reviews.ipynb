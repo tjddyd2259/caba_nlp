{
  "nbformat": 4,
  "nbformat_minor": 0,
  "metadata": {
    "colab": {
      "name": "DL20_classifying-movie-reviews.ipynb",
      "provenance": [],
      "authorship_tag": "ABX9TyMM8gLTIjfzoDS2dPXrVFw9",
      "include_colab_link": true
    },
    "kernelspec": {
      "name": "python3",
      "display_name": "Python 3"
    },
    "accelerator": "GPU"
  },
  "cells": [
    {
      "cell_type": "markdown",
      "metadata": {
        "id": "view-in-github",
        "colab_type": "text"
      },
      "source": [
        "<a href=\"https://colab.research.google.com/github/tjddyd2259/caba_nlp/blob/main/DL20_classifying_movie_reviews.ipynb\" target=\"_parent\"><img src=\"https://colab.research.google.com/assets/colab-badge.svg\" alt=\"Open In Colab\"/></a>"
      ]
    },
    {
      "cell_type": "code",
      "metadata": {
        "colab": {
          "base_uri": "https://localhost:8080/"
        },
        "id": "6tr6NIhpNLoP",
        "outputId": "47877854-4a80-4409-e064-7884c53416e6"
      },
      "source": [
        "from keras.datasets import imdb\r\n",
        "import warnings\r\n",
        "warnings.filterwarnings('ignore')\r\n",
        "(train_data, train_labels),(test_data,test_labels) = imdb.load_data(num_words=10000)\r\n",
        "# 매개변수 num_words=10000은 훈련 데이터에서 가장 자주 나ㅓ오는 단어 10000개만 사용한다는 의미\r\n",
        "\r\n",
        "print(train_data.shape)\r\n",
        "print(train_labels[0])"
      ],
      "execution_count": 1,
      "outputs": [
        {
          "output_type": "stream",
          "text": [
            "Downloading data from https://storage.googleapis.com/tensorflow/tf-keras-datasets/imdb.npz\n",
            "17465344/17464789 [==============================] - 0s 0us/step\n",
            "(25000,)\n",
            "1\n"
          ],
          "name": "stdout"
        }
      ]
    },
    {
      "cell_type": "code",
      "metadata": {
        "id": "Q7SK5qYIPKAD"
      },
      "source": [
        "# 변수 train_data 와 test_data는 리뷰 목록이며 단어 인덱스의 리스트이다. 단어 시퀀스가 인코딩된 것이다.\r\n",
        "# test_labels는 부정(0), 긍정(1)을 나타내는 리스트이다."
      ],
      "execution_count": null,
      "outputs": []
    },
    {
      "cell_type": "code",
      "metadata": {
        "colab": {
          "base_uri": "https://localhost:8080/"
        },
        "id": "S3rbcAsBPuZU",
        "outputId": "65aa4cf5-1c2b-4c8f-ce4e-115c5d1da7fa"
      },
      "source": [
        "max([max(sequence)for sequence in train_data])"
      ],
      "execution_count": 2,
      "outputs": [
        {
          "output_type": "execute_result",
          "data": {
            "text/plain": [
              "9999"
            ]
          },
          "metadata": {
            "tags": []
          },
          "execution_count": 2
        }
      ]
    },
    {
      "cell_type": "code",
      "metadata": {
        "id": "5Hj1SwkrP3mG",
        "colab": {
          "base_uri": "https://localhost:8080/"
        },
        "outputId": "f7844e99-db6b-4306-9f66-b005d6a4de92"
      },
      "source": [
        "train_data[:5]"
      ],
      "execution_count": 3,
      "outputs": [
        {
          "output_type": "execute_result",
          "data": {
            "text/plain": [
              "array([list([1, 14, 22, 16, 43, 530, 973, 1622, 1385, 65, 458, 4468, 66, 3941, 4, 173, 36, 256, 5, 25, 100, 43, 838, 112, 50, 670, 2, 9, 35, 480, 284, 5, 150, 4, 172, 112, 167, 2, 336, 385, 39, 4, 172, 4536, 1111, 17, 546, 38, 13, 447, 4, 192, 50, 16, 6, 147, 2025, 19, 14, 22, 4, 1920, 4613, 469, 4, 22, 71, 87, 12, 16, 43, 530, 38, 76, 15, 13, 1247, 4, 22, 17, 515, 17, 12, 16, 626, 18, 2, 5, 62, 386, 12, 8, 316, 8, 106, 5, 4, 2223, 5244, 16, 480, 66, 3785, 33, 4, 130, 12, 16, 38, 619, 5, 25, 124, 51, 36, 135, 48, 25, 1415, 33, 6, 22, 12, 215, 28, 77, 52, 5, 14, 407, 16, 82, 2, 8, 4, 107, 117, 5952, 15, 256, 4, 2, 7, 3766, 5, 723, 36, 71, 43, 530, 476, 26, 400, 317, 46, 7, 4, 2, 1029, 13, 104, 88, 4, 381, 15, 297, 98, 32, 2071, 56, 26, 141, 6, 194, 7486, 18, 4, 226, 22, 21, 134, 476, 26, 480, 5, 144, 30, 5535, 18, 51, 36, 28, 224, 92, 25, 104, 4, 226, 65, 16, 38, 1334, 88, 12, 16, 283, 5, 16, 4472, 113, 103, 32, 15, 16, 5345, 19, 178, 32]),\n",
              "       list([1, 194, 1153, 194, 8255, 78, 228, 5, 6, 1463, 4369, 5012, 134, 26, 4, 715, 8, 118, 1634, 14, 394, 20, 13, 119, 954, 189, 102, 5, 207, 110, 3103, 21, 14, 69, 188, 8, 30, 23, 7, 4, 249, 126, 93, 4, 114, 9, 2300, 1523, 5, 647, 4, 116, 9, 35, 8163, 4, 229, 9, 340, 1322, 4, 118, 9, 4, 130, 4901, 19, 4, 1002, 5, 89, 29, 952, 46, 37, 4, 455, 9, 45, 43, 38, 1543, 1905, 398, 4, 1649, 26, 6853, 5, 163, 11, 3215, 2, 4, 1153, 9, 194, 775, 7, 8255, 2, 349, 2637, 148, 605, 2, 8003, 15, 123, 125, 68, 2, 6853, 15, 349, 165, 4362, 98, 5, 4, 228, 9, 43, 2, 1157, 15, 299, 120, 5, 120, 174, 11, 220, 175, 136, 50, 9, 4373, 228, 8255, 5, 2, 656, 245, 2350, 5, 4, 9837, 131, 152, 491, 18, 2, 32, 7464, 1212, 14, 9, 6, 371, 78, 22, 625, 64, 1382, 9, 8, 168, 145, 23, 4, 1690, 15, 16, 4, 1355, 5, 28, 6, 52, 154, 462, 33, 89, 78, 285, 16, 145, 95]),\n",
              "       list([1, 14, 47, 8, 30, 31, 7, 4, 249, 108, 7, 4, 5974, 54, 61, 369, 13, 71, 149, 14, 22, 112, 4, 2401, 311, 12, 16, 3711, 33, 75, 43, 1829, 296, 4, 86, 320, 35, 534, 19, 263, 4821, 1301, 4, 1873, 33, 89, 78, 12, 66, 16, 4, 360, 7, 4, 58, 316, 334, 11, 4, 1716, 43, 645, 662, 8, 257, 85, 1200, 42, 1228, 2578, 83, 68, 3912, 15, 36, 165, 1539, 278, 36, 69, 2, 780, 8, 106, 14, 6905, 1338, 18, 6, 22, 12, 215, 28, 610, 40, 6, 87, 326, 23, 2300, 21, 23, 22, 12, 272, 40, 57, 31, 11, 4, 22, 47, 6, 2307, 51, 9, 170, 23, 595, 116, 595, 1352, 13, 191, 79, 638, 89, 2, 14, 9, 8, 106, 607, 624, 35, 534, 6, 227, 7, 129, 113]),\n",
              "       list([1, 4, 2, 2, 33, 2804, 4, 2040, 432, 111, 153, 103, 4, 1494, 13, 70, 131, 67, 11, 61, 2, 744, 35, 3715, 761, 61, 5766, 452, 9214, 4, 985, 7, 2, 59, 166, 4, 105, 216, 1239, 41, 1797, 9, 15, 7, 35, 744, 2413, 31, 8, 4, 687, 23, 4, 2, 7339, 6, 3693, 42, 38, 39, 121, 59, 456, 10, 10, 7, 265, 12, 575, 111, 153, 159, 59, 16, 1447, 21, 25, 586, 482, 39, 4, 96, 59, 716, 12, 4, 172, 65, 9, 579, 11, 6004, 4, 1615, 5, 2, 7, 5168, 17, 13, 7064, 12, 19, 6, 464, 31, 314, 11, 2, 6, 719, 605, 11, 8, 202, 27, 310, 4, 3772, 3501, 8, 2722, 58, 10, 10, 537, 2116, 180, 40, 14, 413, 173, 7, 263, 112, 37, 152, 377, 4, 537, 263, 846, 579, 178, 54, 75, 71, 476, 36, 413, 263, 2504, 182, 5, 17, 75, 2306, 922, 36, 279, 131, 2895, 17, 2867, 42, 17, 35, 921, 2, 192, 5, 1219, 3890, 19, 2, 217, 4122, 1710, 537, 2, 1236, 5, 736, 10, 10, 61, 403, 9, 2, 40, 61, 4494, 5, 27, 4494, 159, 90, 263, 2311, 4319, 309, 8, 178, 5, 82, 4319, 4, 65, 15, 9225, 145, 143, 5122, 12, 7039, 537, 746, 537, 537, 15, 7979, 4, 2, 594, 7, 5168, 94, 9096, 3987, 2, 11, 2, 4, 538, 7, 1795, 246, 2, 9, 2, 11, 635, 14, 9, 51, 408, 12, 94, 318, 1382, 12, 47, 6, 2683, 936, 5, 6307, 2, 19, 49, 7, 4, 1885, 2, 1118, 25, 80, 126, 842, 10, 10, 2, 2, 4726, 27, 4494, 11, 1550, 3633, 159, 27, 341, 29, 2733, 19, 4185, 173, 7, 90, 2, 8, 30, 11, 4, 1784, 86, 1117, 8, 3261, 46, 11, 2, 21, 29, 9, 2841, 23, 4, 1010, 2, 793, 6, 2, 1386, 1830, 10, 10, 246, 50, 9, 6, 2750, 1944, 746, 90, 29, 2, 8, 124, 4, 882, 4, 882, 496, 27, 2, 2213, 537, 121, 127, 1219, 130, 5, 29, 494, 8, 124, 4, 882, 496, 4, 341, 7, 27, 846, 10, 10, 29, 9, 1906, 8, 97, 6, 236, 2, 1311, 8, 4, 2, 7, 31, 7, 2, 91, 2, 3987, 70, 4, 882, 30, 579, 42, 9, 12, 32, 11, 537, 10, 10, 11, 14, 65, 44, 537, 75, 2, 1775, 3353, 2, 1846, 4, 2, 7, 154, 5, 4, 518, 53, 2, 2, 7, 3211, 882, 11, 399, 38, 75, 257, 3807, 19, 2, 17, 29, 456, 4, 65, 7, 27, 205, 113, 10, 10, 2, 4, 2, 2, 9, 242, 4, 91, 1202, 2, 5, 2070, 307, 22, 7, 5168, 126, 93, 40, 2, 13, 188, 1076, 3222, 19, 4, 2, 7, 2348, 537, 23, 53, 537, 21, 82, 40, 2, 13, 2, 14, 280, 13, 219, 4, 2, 431, 758, 859, 4, 953, 1052, 2, 7, 5991, 5, 94, 40, 25, 238, 60, 2, 4, 2, 804, 2, 7, 4, 9941, 132, 8, 67, 6, 22, 15, 9, 283, 8, 5168, 14, 31, 9, 242, 955, 48, 25, 279, 2, 23, 12, 1685, 195, 25, 238, 60, 796, 2, 4, 671, 7, 2804, 5, 4, 559, 154, 888, 7, 726, 50, 26, 49, 7008, 15, 566, 30, 579, 21, 64, 2574]),\n",
              "       list([1, 249, 1323, 7, 61, 113, 10, 10, 13, 1637, 14, 20, 56, 33, 2401, 18, 457, 88, 13, 2626, 1400, 45, 3171, 13, 70, 79, 49, 706, 919, 13, 16, 355, 340, 355, 1696, 96, 143, 4, 22, 32, 289, 7, 61, 369, 71, 2359, 5, 13, 16, 131, 2073, 249, 114, 249, 229, 249, 20, 13, 28, 126, 110, 13, 473, 8, 569, 61, 419, 56, 429, 6, 1513, 18, 35, 534, 95, 474, 570, 5, 25, 124, 138, 88, 12, 421, 1543, 52, 725, 6397, 61, 419, 11, 13, 1571, 15, 1543, 20, 11, 4, 2, 5, 296, 12, 3524, 5, 15, 421, 128, 74, 233, 334, 207, 126, 224, 12, 562, 298, 2167, 1272, 7, 2601, 5, 516, 988, 43, 8, 79, 120, 15, 595, 13, 784, 25, 3171, 18, 165, 170, 143, 19, 14, 5, 7224, 6, 226, 251, 7, 61, 113])],\n",
              "      dtype=object)"
            ]
          },
          "metadata": {
            "tags": []
          },
          "execution_count": 3
        }
      ]
    },
    {
      "cell_type": "markdown",
      "metadata": {
        "id": "FnWb3-hcC2JQ"
      },
      "source": [
        "데이터 준비               \r\n",
        "신경망에 숫자 리스트를 주입할 수 없다. 리스트를 텐서로 바꾸어 주어야 한다.\r\n",
        "- 같은 길이가 되도록 리스트에 패딩을 추가하고 (samples, sequence_length) 크기의 정수 텐서로 전환한 다음 이 정수 텐서를 다룰 수 있는 층을 신경망의 첫번째 층으로 사용 \r\n",
        "- 리스트를 원-핫 인코딩하여 0과 1의 벡터로 변환한다. 예를 들어 [3,5]를 3과 5 위치는 1이고 나머지는 0 인 10000차원의 벡터로 변환"
      ]
    },
    {
      "cell_type": "code",
      "metadata": {
        "id": "L_3S-n3NCzYk"
      },
      "source": [
        "import numpy as np\r\n",
        "def vectorize_sequences(sequences, dimension =10000):\r\n",
        "  results = np.zeros((len(sequences),dimension))\r\n",
        "  for i ,sequence in enumerate(sequences):\r\n",
        "    results[i,sequence] = 1. # results[i]에서 특정 인덱스의 위치를 1로 만든다.\r\n",
        "  return results\r\n",
        "\r\n",
        "x_train = vectorize_sequences(train_data)\r\n",
        "x_test = vectorize_sequences(test_data)"
      ],
      "execution_count": 6,
      "outputs": []
    },
    {
      "cell_type": "code",
      "metadata": {
        "colab": {
          "base_uri": "https://localhost:8080/"
        },
        "id": "7fmN5LtFFn8w",
        "outputId": "44bd48cc-2a1c-4910-8597-2de911511566"
      },
      "source": [
        "x_train.shape"
      ],
      "execution_count": 7,
      "outputs": [
        {
          "output_type": "execute_result",
          "data": {
            "text/plain": [
              "(25000, 10000)"
            ]
          },
          "metadata": {
            "tags": []
          },
          "execution_count": 7
        }
      ]
    },
    {
      "cell_type": "code",
      "metadata": {
        "colab": {
          "base_uri": "https://localhost:8080/"
        },
        "id": "v1hm_fBoFq3V",
        "outputId": "7c7e2939-9662-4c2b-a05e-a6ceb937b560"
      },
      "source": [
        "x_train[:5]"
      ],
      "execution_count": 8,
      "outputs": [
        {
          "output_type": "execute_result",
          "data": {
            "text/plain": [
              "array([[0., 1., 1., ..., 0., 0., 0.],\n",
              "       [0., 1., 1., ..., 0., 0., 0.],\n",
              "       [0., 1., 1., ..., 0., 0., 0.],\n",
              "       [0., 1., 1., ..., 0., 0., 0.],\n",
              "       [0., 1., 1., ..., 0., 0., 0.]])"
            ]
          },
          "metadata": {
            "tags": []
          },
          "execution_count": 8
        }
      ]
    },
    {
      "cell_type": "code",
      "metadata": {
        "id": "9nC0frKJF1Y9"
      },
      "source": [
        "y_train = np.asarray(train_labels).astype('float32')\r\n",
        "y_test = np.asarray(test_labels).astype('float32')"
      ],
      "execution_count": 9,
      "outputs": []
    },
    {
      "cell_type": "code",
      "metadata": {
        "colab": {
          "base_uri": "https://localhost:8080/"
        },
        "id": "Tr8Y47e3GFwZ",
        "outputId": "29817f04-05f1-425e-d8a6-bbf6f0e3297d"
      },
      "source": [
        "y_train[:5]"
      ],
      "execution_count": 10,
      "outputs": [
        {
          "output_type": "execute_result",
          "data": {
            "text/plain": [
              "array([1., 0., 0., 1., 0.], dtype=float32)"
            ]
          },
          "metadata": {
            "tags": []
          },
          "execution_count": 10
        }
      ]
    },
    {
      "cell_type": "markdown",
      "metadata": {
        "id": "TgSvOu9hGPF0"
      },
      "source": [
        "신경망 모델 만들기\r\n"
      ]
    },
    {
      "cell_type": "code",
      "metadata": {
        "id": "7c52_BAXGLr7"
      },
      "source": [
        "from keras import models\r\n",
        "from keras import layers\r\n",
        "\r\n",
        "model = models.Sequential()\r\n",
        "model.add(layers.Dense(16,activation='relu',input_shape=(10000,)))\r\n",
        "model.add(layers.Dense(16,activation='relu'))\r\n",
        "model.add(layers.Dense(1,activation='sigmoid'))"
      ],
      "execution_count": 11,
      "outputs": []
    },
    {
      "cell_type": "markdown",
      "metadata": {
        "id": "f_drliDTJcmR"
      },
      "source": [
        "컴파일\r\n",
        "- 손실함수\r\n",
        "- 옵티마이저\r\n",
        "- 모니터링 방법"
      ]
    },
    {
      "cell_type": "code",
      "metadata": {
        "id": "9jO3UfpoJgkr"
      },
      "source": [
        "model.compile(optimizer='rmsprop',\r\n",
        "              loss = 'binary_crossentropy',\r\n",
        "              metrics = ['accuracy'])"
      ],
      "execution_count": 12,
      "outputs": []
    },
    {
      "cell_type": "code",
      "metadata": {
        "id": "CRCdxFbtJwA6"
      },
      "source": [
        "# 훈련 검증 : 10000개의 샘플용 검증용 세트로 분리\r\n",
        "x_val = x_train[:10000]\r\n",
        "partial_x_train = x_train[10000:]\r\n",
        "\r\n",
        "y_val = y_train[:10000]\r\n",
        "partial_y_train = y_train[10000:]\r\n"
      ],
      "execution_count": 13,
      "outputs": []
    },
    {
      "cell_type": "code",
      "metadata": {
        "colab": {
          "base_uri": "https://localhost:8080/"
        },
        "id": "0dwvDxLVKMdj",
        "outputId": "f9727f0a-3655-4e3e-89ee-f04333255e36"
      },
      "source": [
        "# 512개씩 미니 배치로 만들어 20번의 에포크 동안 훈련\r\n",
        "\r\n",
        "history = model.fit(partial_x_train,partial_y_train,epochs=20,batch_size=512,validation_data=(x_val,y_val))"
      ],
      "execution_count": 14,
      "outputs": [
        {
          "output_type": "stream",
          "text": [
            "Epoch 1/20\n",
            "30/30 [==============================] - 4s 36ms/step - loss: 0.6065 - accuracy: 0.7132 - val_loss: 0.4290 - val_accuracy: 0.8704\n",
            "Epoch 2/20\n",
            "30/30 [==============================] - 1s 19ms/step - loss: 0.3711 - accuracy: 0.8981 - val_loss: 0.3325 - val_accuracy: 0.8859\n",
            "Epoch 3/20\n",
            "30/30 [==============================] - 1s 18ms/step - loss: 0.2663 - accuracy: 0.9235 - val_loss: 0.3144 - val_accuracy: 0.8738\n",
            "Epoch 4/20\n",
            "30/30 [==============================] - 1s 18ms/step - loss: 0.2099 - accuracy: 0.9357 - val_loss: 0.3252 - val_accuracy: 0.8655\n",
            "Epoch 5/20\n",
            "30/30 [==============================] - 1s 18ms/step - loss: 0.1723 - accuracy: 0.9472 - val_loss: 0.2813 - val_accuracy: 0.8859\n",
            "Epoch 6/20\n",
            "30/30 [==============================] - 1s 18ms/step - loss: 0.1375 - accuracy: 0.9603 - val_loss: 0.2768 - val_accuracy: 0.8901\n",
            "Epoch 7/20\n",
            "30/30 [==============================] - 1s 18ms/step - loss: 0.1151 - accuracy: 0.9681 - val_loss: 0.2884 - val_accuracy: 0.8880\n",
            "Epoch 8/20\n",
            "30/30 [==============================] - 1s 18ms/step - loss: 0.0917 - accuracy: 0.9764 - val_loss: 0.3018 - val_accuracy: 0.8847\n",
            "Epoch 9/20\n",
            "30/30 [==============================] - 1s 18ms/step - loss: 0.0770 - accuracy: 0.9816 - val_loss: 0.3275 - val_accuracy: 0.8785\n",
            "Epoch 10/20\n",
            "30/30 [==============================] - 1s 18ms/step - loss: 0.0619 - accuracy: 0.9876 - val_loss: 0.3379 - val_accuracy: 0.8836\n",
            "Epoch 11/20\n",
            "30/30 [==============================] - 1s 18ms/step - loss: 0.0479 - accuracy: 0.9896 - val_loss: 0.3970 - val_accuracy: 0.8731\n",
            "Epoch 12/20\n",
            "30/30 [==============================] - 1s 19ms/step - loss: 0.0419 - accuracy: 0.9918 - val_loss: 0.3882 - val_accuracy: 0.8769\n",
            "Epoch 13/20\n",
            "30/30 [==============================] - 1s 18ms/step - loss: 0.0305 - accuracy: 0.9943 - val_loss: 0.4126 - val_accuracy: 0.8758\n",
            "Epoch 14/20\n",
            "30/30 [==============================] - 1s 18ms/step - loss: 0.0229 - accuracy: 0.9963 - val_loss: 0.4416 - val_accuracy: 0.8781\n",
            "Epoch 15/20\n",
            "30/30 [==============================] - 1s 19ms/step - loss: 0.0178 - accuracy: 0.9975 - val_loss: 0.4704 - val_accuracy: 0.8764\n",
            "Epoch 16/20\n",
            "30/30 [==============================] - 1s 18ms/step - loss: 0.0118 - accuracy: 0.9990 - val_loss: 0.5264 - val_accuracy: 0.8624\n",
            "Epoch 17/20\n",
            "30/30 [==============================] - 1s 18ms/step - loss: 0.0093 - accuracy: 0.9993 - val_loss: 0.5298 - val_accuracy: 0.8735\n",
            "Epoch 18/20\n",
            "30/30 [==============================] - 1s 18ms/step - loss: 0.0065 - accuracy: 0.9997 - val_loss: 0.5711 - val_accuracy: 0.8734\n",
            "Epoch 19/20\n",
            "30/30 [==============================] - 1s 19ms/step - loss: 0.0054 - accuracy: 0.9998 - val_loss: 0.5994 - val_accuracy: 0.8730\n",
            "Epoch 20/20\n",
            "30/30 [==============================] - 1s 18ms/step - loss: 0.0037 - accuracy: 0.9996 - val_loss: 0.6326 - val_accuracy: 0.8715\n"
          ],
          "name": "stdout"
        }
      ]
    },
    {
      "cell_type": "code",
      "metadata": {
        "colab": {
          "base_uri": "https://localhost:8080/",
          "height": 295
        },
        "id": "uRv0EvXEK_hU",
        "outputId": "6bf76e0e-8146-48d2-e65a-0c6b680e4d30"
      },
      "source": [
        "import matplotlib.pyplot as plt\r\n",
        "\r\n",
        "acc = history.history['accuracy']\r\n",
        "val_acc = history.history['val_accuracy']\r\n",
        "loss = history.history['loss']\r\n",
        "val_loss = history.history['val_loss']\r\n",
        "\r\n",
        "epochs = range(1,len(acc)+1)\r\n",
        "plt.plot(epochs,loss,'bo',label = 'Traning loss')\r\n",
        "plt.plot(epochs,val_loss , 'b',label='Validation loss')\r\n",
        "plt.title('Training and validation loss')\r\n",
        "plt.xlabel('Epochs')\r\n",
        "plt.ylabel('Loss')\r\n",
        "plt.legend()\r\n",
        "plt.show()"
      ],
      "execution_count": 15,
      "outputs": [
        {
          "output_type": "display_data",
          "data": {
            "image/png": "[encoded data removed]",
            "text/plain": [
              "<Figure size 432x288 with 1 Axes>"
            ]
          },
          "metadata": {
            "tags": [],
            "needs_background": "light"
          }
        }
      ]
    },
    {
      "cell_type": "code",
      "metadata": {
        "colab": {
          "base_uri": "https://localhost:8080/",
          "height": 295
        },
        "id": "fmtL1Ft3Po08",
        "outputId": "0c4d631c-9647-4c10-f6fc-3609bc1d6f2d"
      },
      "source": [
        "plt.clf()# 그래프 초기화\r\n",
        "history_dict = history.history\r\n",
        "acc = history_dict['accuracy']\r\n",
        "val_acc = history_dict['val_accuracy']\r\n",
        "\r\n",
        "plt.plot(epochs,acc,'bo',label='Training acc')\r\n",
        "plt.plot(epochs,val_acc,'b',label='Validation acc')\r\n",
        "plt.title('Training and validation accuracy')\r\n",
        "plt.xlabel('Epochs')\r\n",
        "plt.ylabel('Loss')\r\n",
        "plt.legend()\r\n",
        "plt.show()"
      ],
      "execution_count": 17,
      "outputs": [
        {
          "output_type": "display_data",
          "data": {
            "image/png": "[encoded data removed]",
            "text/plain": [
              "<Figure size 432x288 with 1 Axes>"
            ]
          },
          "metadata": {
            "tags": [],
            "needs_background": "light"
          }
        }
      ]
    },
    {
      "cell_type": "code",
      "metadata": {
        "id": "RWiFMUB9Q7wt"
      },
      "source": [
        "from keras import models\r\n",
        "from keras import layers\r\n",
        "\r\n",
        "model = models.Sequential()\r\n",
        "model.add(layers.Dense(16,activation='relu',input_shape=(10000,)))\r\n",
        "model.add(layers.Dense(16,activation='relu'))\r\n",
        "model.add(layers.Dense(1,activation='sigmoid'))"
      ],
      "execution_count": 18,
      "outputs": []
    },
    {
      "cell_type": "code",
      "metadata": {
        "id": "qRrI_rC7RAxi"
      },
      "source": [
        "model.compile(optimizer='rmsprop',\r\n",
        "              loss = 'binary_crossentropy',\r\n",
        "              metrics = ['accuracy'])"
      ],
      "execution_count": 19,
      "outputs": []
    },
    {
      "cell_type": "code",
      "metadata": {
        "colab": {
          "base_uri": "https://localhost:8080/"
        },
        "id": "Ve2w2XiVRMLn",
        "outputId": "43365495-efd8-4a41-ba73-6b3b25cb7717"
      },
      "source": [
        "model.fit(x_train,y_train,epochs=4,batch_size=512)\r\n",
        "results=model.evaluate(x_test,y_test)"
      ],
      "execution_count": 20,
      "outputs": [
        {
          "output_type": "stream",
          "text": [
            "Epoch 1/4\n",
            "49/49 [==============================] - 1s 11ms/step - loss: 0.5759 - accuracy: 0.7254\n",
            "Epoch 2/4\n",
            "49/49 [==============================] - 1s 11ms/step - loss: 0.2840 - accuracy: 0.9064\n",
            "Epoch 3/4\n",
            "49/49 [==============================] - 1s 11ms/step - loss: 0.2052 - accuracy: 0.9283\n",
            "Epoch 4/4\n",
            "49/49 [==============================] - 1s 11ms/step - loss: 0.1672 - accuracy: 0.9390\n",
            "782/782 [==============================] - 2s 2ms/step - loss: 0.2949 - accuracy: 0.8832\n"
          ],
          "name": "stdout"
        }
      ]
    },
    {
      "cell_type": "code",
      "metadata": {
        "colab": {
          "base_uri": "https://localhost:8080/"
        },
        "id": "eBs5irSRRbmz",
        "outputId": "f8eb2065-3991-4767-db77-0e799b60e1ed"
      },
      "source": [
        "results"
      ],
      "execution_count": 21,
      "outputs": [
        {
          "output_type": "execute_result",
          "data": {
            "text/plain": [
              "[0.29493170976638794, 0.8831599950790405]"
            ]
          },
          "metadata": {
            "tags": []
          },
          "execution_count": 21
        }
      ]
    },
    {
      "cell_type": "code",
      "metadata": {
        "colab": {
          "base_uri": "https://localhost:8080/"
        },
        "id": "XISCOrOcRmUi",
        "outputId": "df9f9063-61b4-4003-f77f-5ebab7dfa46f"
      },
      "source": [
        "model.predict(x_test)"
      ],
      "execution_count": 22,
      "outputs": [
        {
          "output_type": "execute_result",
          "data": {
            "text/plain": [
              "array([[0.18164247],\n",
              "       [0.9999386 ],\n",
              "       [0.80306464],\n",
              "       ...,\n",
              "       [0.10681549],\n",
              "       [0.07510103],\n",
              "       [0.6247551 ]], dtype=float32)"
            ]
          },
          "metadata": {
            "tags": []
          },
          "execution_count": 22
        }
      ]
    }
  ]
}