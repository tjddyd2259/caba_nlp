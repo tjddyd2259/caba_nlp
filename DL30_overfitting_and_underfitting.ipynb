{
  "nbformat": 4,
  "nbformat_minor": 0,
  "metadata": {
    "colab": {
      "name": "DL30_overfitting-and-underfitting.ipynb",
      "provenance": [],
      "authorship_tag": "ABX9TyOSRC0IE30K3YtUAUqh62Oy",
      "include_colab_link": true
    },
    "kernelspec": {
      "name": "python3",
      "display_name": "Python 3"
    },
    "accelerator": "GPU"
  },
  "cells": [
    {
      "cell_type": "markdown",
      "metadata": {
        "id": "view-in-github",
        "colab_type": "text"
      },
      "source": [
        "<a href=\"https://colab.research.google.com/github/tjddyd2259/caba_nlp/blob/main/DL30_overfitting_and_underfitting.ipynb\" target=\"_parent\"><img src=\"https://colab.research.google.com/assets/colab-badge.svg\" alt=\"Open In Colab\"/></a>"
      ]
    },
    {
      "cell_type": "markdown",
      "metadata": {
        "id": "7qXCJ5o3rtJ7"
      },
      "source": [
        ""
      ]
    },
    {
      "cell_type": "code",
      "metadata": {
        "colab": {
          "base_uri": "https://localhost:8080/"
        },
        "id": "UsiZpGL1rRcW",
        "outputId": "2070cfd0-9a9b-49b7-c3b2-7c9005d4e4e4"
      },
      "source": [
        "from keras.datasets import imdb\r\n",
        "import numpy as np\r\n",
        "\r\n",
        "(train_data,train_labels),(test_data,test_labels) = imdb.load_data(num_words=10000)"
      ],
      "execution_count": 1,
      "outputs": [
        {
          "output_type": "stream",
          "text": [
            "Downloading data from https://storage.googleapis.com/tensorflow/tf-keras-datasets/imdb.npz\n",
            "17465344/17464789 [==============================] - 0s 0us/step\n"
          ],
          "name": "stdout"
        },
        {
          "output_type": "stream",
          "text": [
            "<string>:6: VisibleDeprecationWarning: Creating an ndarray from ragged nested sequences (which is a list-or-tuple of lists-or-tuples-or ndarrays with different lengths or shapes) is deprecated. If you meant to do this, you must specify 'dtype=object' when creating the ndarray\n",
            "/usr/local/lib/python3.7/dist-packages/tensorflow/python/keras/datasets/imdb.py:159: VisibleDeprecationWarning: Creating an ndarray from ragged nested sequences (which is a list-or-tuple of lists-or-tuples-or ndarrays with different lengths or shapes) is deprecated. If you meant to do this, you must specify 'dtype=object' when creating the ndarray\n",
            "  x_train, y_train = np.array(xs[:idx]), np.array(labels[:idx])\n",
            "/usr/local/lib/python3.7/dist-packages/tensorflow/python/keras/datasets/imdb.py:160: VisibleDeprecationWarning: Creating an ndarray from ragged nested sequences (which is a list-or-tuple of lists-or-tuples-or ndarrays with different lengths or shapes) is deprecated. If you meant to do this, you must specify 'dtype=object' when creating the ndarray\n",
            "  x_test, y_test = np.array(xs[idx:]), np.array(labels[idx:])\n"
          ],
          "name": "stderr"
        }
      ]
    },
    {
      "cell_type": "code",
      "metadata": {
        "colab": {
          "base_uri": "https://localhost:8080/"
        },
        "id": "60jhYasMsf_7",
        "outputId": "1726730e-b575-4ad0-d8d1-ab25c862398f"
      },
      "source": [
        "train_data.shape\r\n",
        "len(train_data[0])\r\n",
        "train_data[:5]"
      ],
      "execution_count": 2,
      "outputs": [
        {
          "output_type": "execute_result",
          "data": {
            "text/plain": [
              "array([list([1, 14, 22, 16, 43, 530, 973, 1622, 1385, 65, 458, 4468, 66, 3941, 4, 173, 36, 256, 5, 25, 100, 43, 838, 112, 50, 670, 2, 9, 35, 480, 284, 5, 150, 4, 172, 112, 167, 2, 336, 385, 39, 4, 172, 4536, 1111, 17, 546, 38, 13, 447, 4, 192, 50, 16, 6, 147, 2025, 19, 14, 22, 4, 1920, 4613, 469, 4, 22, 71, 87, 12, 16, 43, 530, 38, 76, 15, 13, 1247, 4, 22, 17, 515, 17, 12, 16, 626, 18, 2, 5, 62, 386, 12, 8, 316, 8, 106, 5, 4, 2223, 5244, 16, 480, 66, 3785, 33, 4, 130, 12, 16, 38, 619, 5, 25, 124, 51, 36, 135, 48, 25, 1415, 33, 6, 22, 12, 215, 28, 77, 52, 5, 14, 407, 16, 82, 2, 8, 4, 107, 117, 5952, 15, 256, 4, 2, 7, 3766, 5, 723, 36, 71, 43, 530, 476, 26, 400, 317, 46, 7, 4, 2, 1029, 13, 104, 88, 4, 381, 15, 297, 98, 32, 2071, 56, 26, 141, 6, 194, 7486, 18, 4, 226, 22, 21, 134, 476, 26, 480, 5, 144, 30, 5535, 18, 51, 36, 28, 224, 92, 25, 104, 4, 226, 65, 16, 38, 1334, 88, 12, 16, 283, 5, 16, 4472, 113, 103, 32, 15, 16, 5345, 19, 178, 32]),\n",
              "       list([1, 194, 1153, 194, 8255, 78, 228, 5, 6, 1463, 4369, 5012, 134, 26, 4, 715, 8, 118, 1634, 14, 394, 20, 13, 119, 954, 189, 102, 5, 207, 110, 3103, 21, 14, 69, 188, 8, 30, 23, 7, 4, 249, 126, 93, 4, 114, 9, 2300, 1523, 5, 647, 4, 116, 9, 35, 8163, 4, 229, 9, 340, 1322, 4, 118, 9, 4, 130, 4901, 19, 4, 1002, 5, 89, 29, 952, 46, 37, 4, 455, 9, 45, 43, 38, 1543, 1905, 398, 4, 1649, 26, 6853, 5, 163, 11, 3215, 2, 4, 1153, 9, 194, 775, 7, 8255, 2, 349, 2637, 148, 605, 2, 8003, 15, 123, 125, 68, 2, 6853, 15, 349, 165, 4362, 98, 5, 4, 228, 9, 43, 2, 1157, 15, 299, 120, 5, 120, 174, 11, 220, 175, 136, 50, 9, 4373, 228, 8255, 5, 2, 656, 245, 2350, 5, 4, 9837, 131, 152, 491, 18, 2, 32, 7464, 1212, 14, 9, 6, 371, 78, 22, 625, 64, 1382, 9, 8, 168, 145, 23, 4, 1690, 15, 16, 4, 1355, 5, 28, 6, 52, 154, 462, 33, 89, 78, 285, 16, 145, 95]),\n",
              "       list([1, 14, 47, 8, 30, 31, 7, 4, 249, 108, 7, 4, 5974, 54, 61, 369, 13, 71, 149, 14, 22, 112, 4, 2401, 311, 12, 16, 3711, 33, 75, 43, 1829, 296, 4, 86, 320, 35, 534, 19, 263, 4821, 1301, 4, 1873, 33, 89, 78, 12, 66, 16, 4, 360, 7, 4, 58, 316, 334, 11, 4, 1716, 43, 645, 662, 8, 257, 85, 1200, 42, 1228, 2578, 83, 68, 3912, 15, 36, 165, 1539, 278, 36, 69, 2, 780, 8, 106, 14, 6905, 1338, 18, 6, 22, 12, 215, 28, 610, 40, 6, 87, 326, 23, 2300, 21, 23, 22, 12, 272, 40, 57, 31, 11, 4, 22, 47, 6, 2307, 51, 9, 170, 23, 595, 116, 595, 1352, 13, 191, 79, 638, 89, 2, 14, 9, 8, 106, 607, 624, 35, 534, 6, 227, 7, 129, 113]),\n",
              "       list([1, 4, 2, 2, 33, 2804, 4, 2040, 432, 111, 153, 103, 4, 1494, 13, 70, 131, 67, 11, 61, 2, 744, 35, 3715, 761, 61, 5766, 452, 9214, 4, 985, 7, 2, 59, 166, 4, 105, 216, 1239, 41, 1797, 9, 15, 7, 35, 744, 2413, 31, 8, 4, 687, 23, 4, 2, 7339, 6, 3693, 42, 38, 39, 121, 59, 456, 10, 10, 7, 265, 12, 575, 111, 153, 159, 59, 16, 1447, 21, 25, 586, 482, 39, 4, 96, 59, 716, 12, 4, 172, 65, 9, 579, 11, 6004, 4, 1615, 5, 2, 7, 5168, 17, 13, 7064, 12, 19, 6, 464, 31, 314, 11, 2, 6, 719, 605, 11, 8, 202, 27, 310, 4, 3772, 3501, 8, 2722, 58, 10, 10, 537, 2116, 180, 40, 14, 413, 173, 7, 263, 112, 37, 152, 377, 4, 537, 263, 846, 579, 178, 54, 75, 71, 476, 36, 413, 263, 2504, 182, 5, 17, 75, 2306, 922, 36, 279, 131, 2895, 17, 2867, 42, 17, 35, 921, 2, 192, 5, 1219, 3890, 19, 2, 217, 4122, 1710, 537, 2, 1236, 5, 736, 10, 10, 61, 403, 9, 2, 40, 61, 4494, 5, 27, 4494, 159, 90, 263, 2311, 4319, 309, 8, 178, 5, 82, 4319, 4, 65, 15, 9225, 145, 143, 5122, 12, 7039, 537, 746, 537, 537, 15, 7979, 4, 2, 594, 7, 5168, 94, 9096, 3987, 2, 11, 2, 4, 538, 7, 1795, 246, 2, 9, 2, 11, 635, 14, 9, 51, 408, 12, 94, 318, 1382, 12, 47, 6, 2683, 936, 5, 6307, 2, 19, 49, 7, 4, 1885, 2, 1118, 25, 80, 126, 842, 10, 10, 2, 2, 4726, 27, 4494, 11, 1550, 3633, 159, 27, 341, 29, 2733, 19, 4185, 173, 7, 90, 2, 8, 30, 11, 4, 1784, 86, 1117, 8, 3261, 46, 11, 2, 21, 29, 9, 2841, 23, 4, 1010, 2, 793, 6, 2, 1386, 1830, 10, 10, 246, 50, 9, 6, 2750, 1944, 746, 90, 29, 2, 8, 124, 4, 882, 4, 882, 496, 27, 2, 2213, 537, 121, 127, 1219, 130, 5, 29, 494, 8, 124, 4, 882, 496, 4, 341, 7, 27, 846, 10, 10, 29, 9, 1906, 8, 97, 6, 236, 2, 1311, 8, 4, 2, 7, 31, 7, 2, 91, 2, 3987, 70, 4, 882, 30, 579, 42, 9, 12, 32, 11, 537, 10, 10, 11, 14, 65, 44, 537, 75, 2, 1775, 3353, 2, 1846, 4, 2, 7, 154, 5, 4, 518, 53, 2, 2, 7, 3211, 882, 11, 399, 38, 75, 257, 3807, 19, 2, 17, 29, 456, 4, 65, 7, 27, 205, 113, 10, 10, 2, 4, 2, 2, 9, 242, 4, 91, 1202, 2, 5, 2070, 307, 22, 7, 5168, 126, 93, 40, 2, 13, 188, 1076, 3222, 19, 4, 2, 7, 2348, 537, 23, 53, 537, 21, 82, 40, 2, 13, 2, 14, 280, 13, 219, 4, 2, 431, 758, 859, 4, 953, 1052, 2, 7, 5991, 5, 94, 40, 25, 238, 60, 2, 4, 2, 804, 2, 7, 4, 9941, 132, 8, 67, 6, 22, 15, 9, 283, 8, 5168, 14, 31, 9, 242, 955, 48, 25, 279, 2, 23, 12, 1685, 195, 25, 238, 60, 796, 2, 4, 671, 7, 2804, 5, 4, 559, 154, 888, 7, 726, 50, 26, 49, 7008, 15, 566, 30, 579, 21, 64, 2574]),\n",
              "       list([1, 249, 1323, 7, 61, 113, 10, 10, 13, 1637, 14, 20, 56, 33, 2401, 18, 457, 88, 13, 2626, 1400, 45, 3171, 13, 70, 79, 49, 706, 919, 13, 16, 355, 340, 355, 1696, 96, 143, 4, 22, 32, 289, 7, 61, 369, 71, 2359, 5, 13, 16, 131, 2073, 249, 114, 249, 229, 249, 20, 13, 28, 126, 110, 13, 473, 8, 569, 61, 419, 56, 429, 6, 1513, 18, 35, 534, 95, 474, 570, 5, 25, 124, 138, 88, 12, 421, 1543, 52, 725, 6397, 61, 419, 11, 13, 1571, 15, 1543, 20, 11, 4, 2, 5, 296, 12, 3524, 5, 15, 421, 128, 74, 233, 334, 207, 126, 224, 12, 562, 298, 2167, 1272, 7, 2601, 5, 516, 988, 43, 8, 79, 120, 15, 595, 13, 784, 25, 3171, 18, 165, 170, 143, 19, 14, 5, 7224, 6, 226, 251, 7, 61, 113])],\n",
              "      dtype=object)"
            ]
          },
          "metadata": {
            "tags": []
          },
          "execution_count": 2
        }
      ]
    },
    {
      "cell_type": "code",
      "metadata": {
        "id": "MHHkQ323uB2A"
      },
      "source": [
        "def vectorize_sequences(sequences,dimension=10000):\r\n",
        "  results = np.zeros((len(sequences),dimension))\r\n",
        "  for i, sequence in enumerate(sequences):\r\n",
        "    results[i,sequence]=1. \r\n",
        "  return results\r\n"
      ],
      "execution_count": 3,
      "outputs": []
    },
    {
      "cell_type": "code",
      "metadata": {
        "id": "e4rIttR6vsVt"
      },
      "source": [
        "x_train = vectorize_sequences(train_data)\r\n",
        "x_test = vectorize_sequences(test_data)\r\n",
        "y_train = np.asarray(train_labels).astype('float32')\r\n",
        "y_test = np.asarray(test_labels).astype('float32')"
      ],
      "execution_count": 4,
      "outputs": []
    },
    {
      "cell_type": "code",
      "metadata": {
        "id": "uBA4Yn-uyagZ"
      },
      "source": [
        "# 네트워크 크기 축소\r\n",
        "from keras import models\r\n",
        "from keras import layers\r\n",
        "\r\n",
        "original_model = models.Sequential()\r\n",
        "original_model.add(layers.Dense(16,activation='relu',input_shape=(10000,)))\r\n",
        "original_model.add(layers.Dense(16,activation='relu'))\r\n",
        "original_model.add(layers.Dense(1,activation='sigmoid'))\r\n",
        "original_model.compile(optimizer='rmsprop',\r\n",
        "                       loss='binary_crossentropy',\r\n",
        "                       metrics=['acc'])"
      ],
      "execution_count": 5,
      "outputs": []
    },
    {
      "cell_type": "code",
      "metadata": {
        "id": "0MuBFrAo1-g5"
      },
      "source": [
        "# 더 작은 네트워크\r\n",
        "\r\n",
        "smaller_model = models.Sequential()\r\n",
        "smaller_model.add(layers.Dense(6,activation='relu',input_shape=(10000,)))\r\n",
        "smaller_model.add(layers.Dense(6,activation='relu'))\r\n",
        "smaller_model.add(layers.Dense(1,activation='sigmoid'))\r\n",
        "smaller_model.compile(optimizer='rmsprop',\r\n",
        "                      loss='binary_crossentropy',\r\n",
        "                      metrics=['acc'])"
      ],
      "execution_count": 6,
      "outputs": []
    },
    {
      "cell_type": "code",
      "metadata": {
        "colab": {
          "base_uri": "https://localhost:8080/"
        },
        "id": "ONUNw8v-2sXj",
        "outputId": "e77ed841-8885-4e1d-87c7-cb98638b5d46"
      },
      "source": [
        "original_hist = original_model.fit(x_train,y_train,\r\n",
        "                                   epochs=20,\r\n",
        "                                   batch_size=512,\r\n",
        "                                   validation_data=(x_test,y_test))"
      ],
      "execution_count": 7,
      "outputs": [
        {
          "output_type": "stream",
          "text": [
            "Epoch 1/20\n",
            "49/49 [==============================] - 5s 36ms/step - loss: 0.5511 - acc: 0.7448 - val_loss: 0.3377 - val_acc: 0.8792\n",
            "Epoch 2/20\n",
            "49/49 [==============================] - 1s 22ms/step - loss: 0.2767 - acc: 0.9063 - val_loss: 0.2859 - val_acc: 0.8881\n",
            "Epoch 3/20\n",
            "49/49 [==============================] - 1s 22ms/step - loss: 0.1974 - acc: 0.9314 - val_loss: 0.2796 - val_acc: 0.8875\n",
            "Epoch 4/20\n",
            "49/49 [==============================] - 1s 22ms/step - loss: 0.1596 - acc: 0.9437 - val_loss: 0.3082 - val_acc: 0.8786\n",
            "Epoch 5/20\n",
            "49/49 [==============================] - 1s 22ms/step - loss: 0.1380 - acc: 0.9538 - val_loss: 0.3116 - val_acc: 0.8798\n",
            "Epoch 6/20\n",
            "49/49 [==============================] - 1s 23ms/step - loss: 0.1229 - acc: 0.9589 - val_loss: 0.3424 - val_acc: 0.8754\n",
            "Epoch 7/20\n",
            "49/49 [==============================] - 1s 22ms/step - loss: 0.1029 - acc: 0.9667 - val_loss: 0.3667 - val_acc: 0.8699\n",
            "Epoch 8/20\n",
            "49/49 [==============================] - 1s 21ms/step - loss: 0.0903 - acc: 0.9709 - val_loss: 0.3882 - val_acc: 0.8699\n",
            "Epoch 9/20\n",
            "49/49 [==============================] - 1s 22ms/step - loss: 0.0788 - acc: 0.9756 - val_loss: 0.4258 - val_acc: 0.8633\n",
            "Epoch 10/20\n",
            "49/49 [==============================] - 1s 22ms/step - loss: 0.0681 - acc: 0.9799 - val_loss: 0.4689 - val_acc: 0.8634\n",
            "Epoch 11/20\n",
            "49/49 [==============================] - 1s 22ms/step - loss: 0.0579 - acc: 0.9826 - val_loss: 0.4789 - val_acc: 0.8609\n",
            "Epoch 12/20\n",
            "49/49 [==============================] - 1s 22ms/step - loss: 0.0517 - acc: 0.9862 - val_loss: 0.5118 - val_acc: 0.8595\n",
            "Epoch 13/20\n",
            "49/49 [==============================] - 1s 22ms/step - loss: 0.0487 - acc: 0.9864 - val_loss: 0.5424 - val_acc: 0.8575\n",
            "Epoch 14/20\n",
            "49/49 [==============================] - 1s 22ms/step - loss: 0.0380 - acc: 0.9897 - val_loss: 0.5731 - val_acc: 0.8554\n",
            "Epoch 15/20\n",
            "49/49 [==============================] - 1s 22ms/step - loss: 0.0320 - acc: 0.9924 - val_loss: 0.6152 - val_acc: 0.8526\n",
            "Epoch 16/20\n",
            "49/49 [==============================] - 1s 22ms/step - loss: 0.0282 - acc: 0.9931 - val_loss: 0.8188 - val_acc: 0.8276\n",
            "Epoch 17/20\n",
            "49/49 [==============================] - 1s 21ms/step - loss: 0.0347 - acc: 0.9882 - val_loss: 0.6733 - val_acc: 0.8536\n",
            "Epoch 18/20\n",
            "49/49 [==============================] - 1s 22ms/step - loss: 0.0183 - acc: 0.9962 - val_loss: 0.7150 - val_acc: 0.8519\n",
            "Epoch 19/20\n",
            "49/49 [==============================] - 1s 21ms/step - loss: 0.0178 - acc: 0.9958 - val_loss: 0.7482 - val_acc: 0.8520\n",
            "Epoch 20/20\n",
            "49/49 [==============================] - 1s 22ms/step - loss: 0.0128 - acc: 0.9975 - val_loss: 0.7921 - val_acc: 0.8501\n"
          ],
          "name": "stdout"
        }
      ]
    },
    {
      "cell_type": "code",
      "metadata": {
        "colab": {
          "base_uri": "https://localhost:8080/"
        },
        "id": "LDDR9jze3LlG",
        "outputId": "b02f5c84-0a6a-43ad-fe75-1215a61631fd"
      },
      "source": [
        "smaller_model_hist = smaller_model.fit(x_train,y_train,\r\n",
        "                                       epochs=20,\r\n",
        "                                       batch_size=512,\r\n",
        "                                       validation_data=(x_test,y_test))"
      ],
      "execution_count": null,
      "outputs": [
        {
          "output_type": "stream",
          "text": [
            "Epoch 1/20\n",
            "49/49 [==============================] - 4s 65ms/step - loss: 0.5725 - acc: 0.7398 - val_loss: 0.3954 - val_acc: 0.8710\n",
            "Epoch 2/20\n",
            "49/49 [==============================] - 1s 22ms/step - loss: 0.3317 - acc: 0.9006 - val_loss: 0.3189 - val_acc: 0.8830\n",
            "Epoch 3/20\n",
            "49/49 [==============================] - 1s 22ms/step - loss: 0.2484 - acc: 0.9221 - val_loss: 0.2894 - val_acc: 0.8901\n",
            "Epoch 4/20\n",
            "49/49 [==============================] - 1s 22ms/step - loss: 0.2036 - acc: 0.9351 - val_loss: 0.2827 - val_acc: 0.8878\n",
            "Epoch 5/20\n",
            "49/49 [==============================] - 1s 21ms/step - loss: 0.1757 - acc: 0.9422 - val_loss: 0.2858 - val_acc: 0.8858\n",
            "Epoch 6/20\n",
            "49/49 [==============================] - 1s 21ms/step - loss: 0.1560 - acc: 0.9499 - val_loss: 0.2892 - val_acc: 0.8844\n",
            "Epoch 7/20\n",
            "49/49 [==============================] - 1s 22ms/step - loss: 0.1413 - acc: 0.9565 - val_loss: 0.3015 - val_acc: 0.8811\n",
            "Epoch 8/20\n",
            "49/49 [==============================] - 1s 22ms/step - loss: 0.1291 - acc: 0.9595 - val_loss: 0.3238 - val_acc: 0.8748\n",
            "Epoch 9/20\n",
            "49/49 [==============================] - 1s 22ms/step - loss: 0.1164 - acc: 0.9632 - val_loss: 0.3222 - val_acc: 0.8769\n",
            "Epoch 10/20\n",
            "49/49 [==============================] - 1s 22ms/step - loss: 0.1057 - acc: 0.9684 - val_loss: 0.3371 - val_acc: 0.8751\n",
            "Epoch 11/20\n",
            "49/49 [==============================] - 1s 22ms/step - loss: 0.0979 - acc: 0.9698 - val_loss: 0.3591 - val_acc: 0.8716\n",
            "Epoch 12/20\n",
            "49/49 [==============================] - 1s 22ms/step - loss: 0.0929 - acc: 0.9719 - val_loss: 0.3725 - val_acc: 0.8692\n",
            "Epoch 13/20\n",
            "49/49 [==============================] - 1s 22ms/step - loss: 0.0829 - acc: 0.9760 - val_loss: 0.3882 - val_acc: 0.8680\n",
            "Epoch 14/20\n",
            "49/49 [==============================] - 1s 21ms/step - loss: 0.0759 - acc: 0.9787 - val_loss: 0.4041 - val_acc: 0.8666\n",
            "Epoch 15/20\n",
            "49/49 [==============================] - 1s 22ms/step - loss: 0.0721 - acc: 0.9811 - val_loss: 0.4256 - val_acc: 0.8643\n",
            "Epoch 16/20\n",
            "49/49 [==============================] - 1s 21ms/step - loss: 0.0669 - acc: 0.9813 - val_loss: 0.4446 - val_acc: 0.8624\n",
            "Epoch 17/20\n",
            "49/49 [==============================] - 1s 22ms/step - loss: 0.0632 - acc: 0.9828 - val_loss: 0.4677 - val_acc: 0.8595\n",
            "Epoch 18/20\n",
            "49/49 [==============================] - 1s 22ms/step - loss: 0.0559 - acc: 0.9860 - val_loss: 0.4904 - val_acc: 0.8580\n",
            "Epoch 19/20\n",
            "49/49 [==============================] - 1s 22ms/step - loss: 0.0513 - acc: 0.9866 - val_loss: 0.5166 - val_acc: 0.8564\n",
            "Epoch 20/20\n",
            "49/49 [==============================] - 1s 21ms/step - loss: 0.0465 - acc: 0.9897 - val_loss: 0.5296 - val_acc: 0.8566\n"
          ],
          "name": "stdout"
        }
      ]
    },
    {
      "cell_type": "code",
      "metadata": {
        "id": "CPFPTZSd3k6S",
        "colab": {
          "base_uri": "https://localhost:8080/",
          "height": 208
        },
        "outputId": "7eb8e3d7-7648-409a-cf0e-622131e2964e"
      },
      "source": [
        "epochs = range(1,21)\r\n",
        "original_val_loss = original_hist.history['val_loss']\r\n",
        "smaller_model_val_loss = smaller_model_hist.history['val_loss']"
      ],
      "execution_count": 14,
      "outputs": [
        {
          "output_type": "error",
          "ename": "NameError",
          "evalue": "ignored",
          "traceback": [
            "\u001b[0;31m---------------------------------------------------------------------------\u001b[0m",
            "\u001b[0;31mNameError\u001b[0m                                 Traceback (most recent call last)",
            "\u001b[0;32m<ipython-input-14-ca9f1bc1f122>\u001b[0m in \u001b[0;36m<module>\u001b[0;34m()\u001b[0m\n\u001b[1;32m      1\u001b[0m \u001b[0mepochs\u001b[0m \u001b[0;34m=\u001b[0m \u001b[0mrange\u001b[0m\u001b[0;34m(\u001b[0m\u001b[0;36m1\u001b[0m\u001b[0;34m,\u001b[0m\u001b[0;36m21\u001b[0m\u001b[0;34m)\u001b[0m\u001b[0;34m\u001b[0m\u001b[0;34m\u001b[0m\u001b[0m\n\u001b[1;32m      2\u001b[0m \u001b[0moriginal_val_loss\u001b[0m \u001b[0;34m=\u001b[0m \u001b[0moriginal_hist\u001b[0m\u001b[0;34m.\u001b[0m\u001b[0mhistory\u001b[0m\u001b[0;34m[\u001b[0m\u001b[0;34m'val_loss'\u001b[0m\u001b[0;34m]\u001b[0m\u001b[0;34m\u001b[0m\u001b[0;34m\u001b[0m\u001b[0m\n\u001b[0;32m----> 3\u001b[0;31m \u001b[0msmaller_model_val_loss\u001b[0m \u001b[0;34m=\u001b[0m \u001b[0msmaller_model_hist\u001b[0m\u001b[0;34m.\u001b[0m\u001b[0mhistory\u001b[0m\u001b[0;34m[\u001b[0m\u001b[0;34m'val_loss'\u001b[0m\u001b[0;34m]\u001b[0m\u001b[0;34m\u001b[0m\u001b[0;34m\u001b[0m\u001b[0m\n\u001b[0m",
            "\u001b[0;31mNameError\u001b[0m: name 'smaller_model_hist' is not defined"
          ]
        }
      ]
    },
    {
      "cell_type": "code",
      "metadata": {
        "colab": {
          "base_uri": "https://localhost:8080/",
          "height": 279
        },
        "id": "fKTD76WV383Z",
        "outputId": "6b7bfdf2-22ce-4890-ff93-7d0aa10db62a"
      },
      "source": [
        "import matplotlib.pyplot as plt\r\n",
        "plt.plot(epochs,original_val_loss,'b+',label='Original model')\r\n",
        "plt.plot(epochs,smaller_model_val_loss,'bo',label='Smaller model')\r\n",
        "plt.xlabel('Epochs')\r\n",
        "plt.ylabel('Validation loss')\r\n",
        "plt.legend()\r\n",
        "plt.show()"
      ],
      "execution_count": null,
      "outputs": [
        {
          "output_type": "display_data",
          "data": {
            "image/png": "[encoded data removed]",
            "text/plain": [
              "<Figure size 432x288 with 1 Axes>"
            ]
          },
          "metadata": {
            "tags": [],
            "needs_background": "light"
          }
        }
      ]
    },
    {
      "cell_type": "code",
      "metadata": {
        "colab": {
          "base_uri": "https://localhost:8080/"
        },
        "id": "LTUTeKWv5Ove",
        "outputId": "5738c5f1-6194-4655-b198-e068ae547dfd"
      },
      "source": [
        "# 더 큰 네트워크\r\n",
        "\r\n",
        "bigger_model = models.Sequential()\r\n",
        "bigger_model.add(layers.Dense(1024,activation='relu',input_shape=(10000,)))\r\n",
        "bigger_model.add(layers.Dense(1024,activation='relu'))\r\n",
        "bigger_model.add(layers.Dense(1,activation='sigmoid'))\r\n",
        "bigger_model.compile(optimizer='rmsprop',\r\n",
        "                      loss='binary_crossentropy',\r\n",
        "                      metrics=['acc'])\r\n",
        "bigger_model_hist = bigger_model.fit(x_train,y_train,\r\n",
        "                                       epochs=20,\r\n",
        "                                       batch_size=512,\r\n",
        "                                       validation_data=(x_test,y_test))"
      ],
      "execution_count": null,
      "outputs": [
        {
          "output_type": "stream",
          "text": [
            "Epoch 1/20\n",
            "49/49 [==============================] - 5s 44ms/step - loss: 0.7955 - acc: 0.6878 - val_loss: 0.3088 - val_acc: 0.8677\n",
            "Epoch 2/20\n",
            "49/49 [==============================] - 1s 29ms/step - loss: 0.2278 - acc: 0.9104 - val_loss: 0.2758 - val_acc: 0.8878\n",
            "Epoch 3/20\n",
            "49/49 [==============================] - 1s 30ms/step - loss: 0.1032 - acc: 0.9633 - val_loss: 0.3298 - val_acc: 0.8870\n",
            "Epoch 4/20\n",
            "49/49 [==============================] - 1s 29ms/step - loss: 0.0616 - acc: 0.9873 - val_loss: 0.4453 - val_acc: 0.8826\n",
            "Epoch 5/20\n",
            "49/49 [==============================] - 1s 29ms/step - loss: 0.0115 - acc: 0.9985 - val_loss: 0.3798 - val_acc: 0.8810\n",
            "Epoch 6/20\n",
            "49/49 [==============================] - 1s 29ms/step - loss: 0.0029 - acc: 0.9999 - val_loss: 0.6431 - val_acc: 0.8838\n",
            "Epoch 7/20\n",
            "49/49 [==============================] - 1s 29ms/step - loss: 1.0270e-04 - acc: 1.0000 - val_loss: 0.8448 - val_acc: 0.8770\n",
            "Epoch 8/20\n",
            "49/49 [==============================] - 1s 29ms/step - loss: 0.0681 - acc: 0.9962 - val_loss: 0.8038 - val_acc: 0.8813\n",
            "Epoch 9/20\n",
            "49/49 [==============================] - 1s 30ms/step - loss: 2.8476e-04 - acc: 1.0000 - val_loss: 0.8089 - val_acc: 0.8830\n",
            "Epoch 10/20\n",
            "49/49 [==============================] - 1s 29ms/step - loss: 1.1019e-05 - acc: 1.0000 - val_loss: 0.8394 - val_acc: 0.8830\n",
            "Epoch 11/20\n",
            "49/49 [==============================] - 1s 29ms/step - loss: 4.1027e-06 - acc: 1.0000 - val_loss: 0.9241 - val_acc: 0.8828\n",
            "Epoch 12/20\n",
            "49/49 [==============================] - 1s 29ms/step - loss: 9.7273e-07 - acc: 1.0000 - val_loss: 1.0618 - val_acc: 0.8836\n",
            "Epoch 13/20\n",
            "49/49 [==============================] - 1s 29ms/step - loss: 1.8287e-07 - acc: 1.0000 - val_loss: 1.1787 - val_acc: 0.8843\n",
            "Epoch 14/20\n",
            "49/49 [==============================] - 1s 29ms/step - loss: 4.5155e-08 - acc: 1.0000 - val_loss: 1.2672 - val_acc: 0.8841\n",
            "Epoch 15/20\n",
            "49/49 [==============================] - 1s 29ms/step - loss: 1.7222e-08 - acc: 1.0000 - val_loss: 1.3144 - val_acc: 0.8844\n",
            "Epoch 16/20\n",
            "49/49 [==============================] - 1s 29ms/step - loss: 1.0202e-08 - acc: 1.0000 - val_loss: 1.3430 - val_acc: 0.8844\n",
            "Epoch 17/20\n",
            "49/49 [==============================] - 1s 29ms/step - loss: 7.5560e-09 - acc: 1.0000 - val_loss: 1.3634 - val_acc: 0.8838\n",
            "Epoch 18/20\n",
            "49/49 [==============================] - 1s 29ms/step - loss: 5.8136e-09 - acc: 1.0000 - val_loss: 1.3790 - val_acc: 0.8843\n",
            "Epoch 19/20\n",
            "49/49 [==============================] - 1s 29ms/step - loss: 4.8819e-09 - acc: 1.0000 - val_loss: 1.3918 - val_acc: 0.8842\n",
            "Epoch 20/20\n",
            "49/49 [==============================] - 1s 29ms/step - loss: 3.9917e-09 - acc: 1.0000 - val_loss: 1.4027 - val_acc: 0.8840\n"
          ],
          "name": "stdout"
        }
      ]
    },
    {
      "cell_type": "code",
      "metadata": {
        "colab": {
          "base_uri": "https://localhost:8080/",
          "height": 279
        },
        "id": "vXUAMetF6Ou0",
        "outputId": "b8691413-1820-4fda-ce3a-98071be6ff01"
      },
      "source": [
        "epochs = range(1,21)\r\n",
        "original_val_loss = original_hist.history['val_loss']\r\n",
        "bigger_model_val_loss = bigger_model_hist.history['val_loss']\r\n",
        "\r\n",
        "import matplotlib.pyplot as plt\r\n",
        "plt.plot(epochs,original_val_loss,'b+',label='Original model')\r\n",
        "plt.plot(epochs,bigger_model_val_loss,'bo',label='Smaller model')\r\n",
        "plt.xlabel('Epochs')\r\n",
        "plt.ylabel('Validation loss')\r\n",
        "plt.legend()\r\n",
        "plt.show()"
      ],
      "execution_count": null,
      "outputs": [
        {
          "output_type": "display_data",
          "data": {
            "image/png": "[encoded data removed]",
            "text/plain": [
              "<Figure size 432x288 with 1 Axes>"
            ]
          },
          "metadata": {
            "tags": [],
            "needs_background": "light"
          }
        }
      ]
    },
    {
      "cell_type": "markdown",
      "metadata": {
        "id": "-Ozfuo4R7B4C"
      },
      "source": [
        "용량이 큰 네트워크는 첫번째 에포크 이후 바로 과대적합이 시작되어 갈수록 심해진다."
      ]
    },
    {
      "cell_type": "markdown",
      "metadata": {
        "id": "r_455pVA7Sw2"
      },
      "source": [
        "가중치 규제 추가\r\n",
        "- L1 규제 : 가중치의 절대값이 비례하는 비용이 추가 ( 가중치의 L1 노름)\r\n",
        "- L2 규제 : 가중치의 제곱에 비례하는 비용이 추가 ( 가중치의 L2 노름) - 가중치 감쇠라고도 함 "
      ]
    },
    {
      "cell_type": "code",
      "metadata": {
        "id": "R1uxal7q7A6J"
      },
      "source": [
        "from keras import regularizers\r\n",
        "\r\n",
        "l2_model =models.Sequential()\r\n",
        "l2_model.add(layers.Dense(16,kernel_regularizer=regularizers.l2(0.001),\r\n",
        "                          activation='relu',input_shape=(10000,)))\r\n",
        "l2_model.add(layers.Dense(16,kernel_regularizer=regularizers.l2(0.001),\r\n",
        "                          activation='relu'))\r\n",
        "l2_model.add(layers.Dense(1,activation='sigmoid'))\r\n",
        "\r\n",
        "l2_model.compile(optimizer='rmsprop',\r\n",
        "                 loss='binary_crossentropy',\r\n",
        "                 metrics=['acc'])"
      ],
      "execution_count": 8,
      "outputs": []
    },
    {
      "cell_type": "code",
      "metadata": {
        "colab": {
          "base_uri": "https://localhost:8080/"
        },
        "id": "_EpNAZVg98kT",
        "outputId": "a136dce7-abee-42cc-c015-c70cc5979835"
      },
      "source": [
        "l2_model_hist = l2_model.fit(x_train,y_train,\r\n",
        "                                       epochs=20,\r\n",
        "                                       batch_size=512,\r\n",
        "                                       validation_data=(x_test,y_test))"
      ],
      "execution_count": 9,
      "outputs": [
        {
          "output_type": "stream",
          "text": [
            "Epoch 1/20\n",
            "49/49 [==============================] - 2s 34ms/step - loss: 0.5919 - acc: 0.7283 - val_loss: 0.3772 - val_acc: 0.8804\n",
            "Epoch 2/20\n",
            "49/49 [==============================] - 1s 22ms/step - loss: 0.3206 - acc: 0.9106 - val_loss: 0.3614 - val_acc: 0.8716\n",
            "Epoch 3/20\n",
            "49/49 [==============================] - 1s 22ms/step - loss: 0.2639 - acc: 0.9234 - val_loss: 0.3324 - val_acc: 0.8870\n",
            "Epoch 4/20\n",
            "49/49 [==============================] - 1s 22ms/step - loss: 0.2419 - acc: 0.9315 - val_loss: 0.3379 - val_acc: 0.8831\n",
            "Epoch 5/20\n",
            "49/49 [==============================] - 1s 22ms/step - loss: 0.2273 - acc: 0.9367 - val_loss: 0.3410 - val_acc: 0.8840\n",
            "Epoch 6/20\n",
            "49/49 [==============================] - 1s 22ms/step - loss: 0.2118 - acc: 0.9470 - val_loss: 0.3645 - val_acc: 0.8764\n",
            "Epoch 7/20\n",
            "49/49 [==============================] - 1s 22ms/step - loss: 0.2030 - acc: 0.9483 - val_loss: 0.3796 - val_acc: 0.8724\n",
            "Epoch 8/20\n",
            "49/49 [==============================] - 1s 22ms/step - loss: 0.2055 - acc: 0.9453 - val_loss: 0.3673 - val_acc: 0.8770\n",
            "Epoch 9/20\n",
            "49/49 [==============================] - 1s 21ms/step - loss: 0.1933 - acc: 0.9546 - val_loss: 0.3954 - val_acc: 0.8683\n",
            "Epoch 10/20\n",
            "49/49 [==============================] - 1s 22ms/step - loss: 0.1943 - acc: 0.9508 - val_loss: 0.3775 - val_acc: 0.8760\n",
            "Epoch 11/20\n",
            "49/49 [==============================] - 1s 22ms/step - loss: 0.1910 - acc: 0.9536 - val_loss: 0.3849 - val_acc: 0.8748\n",
            "Epoch 12/20\n",
            "49/49 [==============================] - 1s 22ms/step - loss: 0.1843 - acc: 0.9564 - val_loss: 0.3881 - val_acc: 0.8736\n",
            "Epoch 13/20\n",
            "49/49 [==============================] - 1s 22ms/step - loss: 0.1788 - acc: 0.9588 - val_loss: 0.4077 - val_acc: 0.8687\n",
            "Epoch 14/20\n",
            "49/49 [==============================] - 1s 22ms/step - loss: 0.1747 - acc: 0.9596 - val_loss: 0.3999 - val_acc: 0.8720\n",
            "Epoch 15/20\n",
            "49/49 [==============================] - 1s 22ms/step - loss: 0.1712 - acc: 0.9610 - val_loss: 0.4145 - val_acc: 0.8687\n",
            "Epoch 16/20\n",
            "49/49 [==============================] - 1s 22ms/step - loss: 0.1759 - acc: 0.9587 - val_loss: 0.4252 - val_acc: 0.8684\n",
            "Epoch 17/20\n",
            "49/49 [==============================] - 1s 22ms/step - loss: 0.1655 - acc: 0.9661 - val_loss: 0.4552 - val_acc: 0.8621\n",
            "Epoch 18/20\n",
            "49/49 [==============================] - 1s 22ms/step - loss: 0.1701 - acc: 0.9616 - val_loss: 0.4219 - val_acc: 0.8696\n",
            "Epoch 19/20\n",
            "49/49 [==============================] - 1s 22ms/step - loss: 0.1638 - acc: 0.9652 - val_loss: 0.4623 - val_acc: 0.8612\n",
            "Epoch 20/20\n",
            "49/49 [==============================] - 1s 22ms/step - loss: 0.1602 - acc: 0.9670 - val_loss: 0.4384 - val_acc: 0.8660\n"
          ],
          "name": "stdout"
        }
      ]
    },
    {
      "cell_type": "code",
      "metadata": {
        "colab": {
          "base_uri": "https://localhost:8080/",
          "height": 279
        },
        "id": "CHF35mOM-Udd",
        "outputId": "af3aac58-1b6d-4bb3-e1e0-d0e7023a3978"
      },
      "source": [
        "import matplotlib.pyplot as plt\r\n",
        "epochs = range(1,21)\r\n",
        "l2_model_val_loss = l2_model_hist.history['val_loss']\r\n",
        "original_val_loss = original_hist.history['val_loss']\r\n",
        "plt.plot(epochs,original_val_loss,'b+',label='Original model')\r\n",
        "plt.plot(epochs,l2_model_val_loss,'bo',label='l2-regularized model')\r\n",
        "plt.xlabel('Epochs')\r\n",
        "plt.ylabel('Validation loss')\r\n",
        "plt.legend()\r\n",
        "plt.show()"
      ],
      "execution_count": 15,
      "outputs": [
        {
          "output_type": "display_data",
          "data": {
            "image/png": "[encoded data removed]",
            "text/plain": [
              "<Figure size 432x288 with 1 Axes>"
            ]
          },
          "metadata": {
            "tags": [],
            "needs_background": "light"
          }
        }
      ]
    },
    {
      "cell_type": "markdown",
      "metadata": {
        "id": "eLvZ1kIn--bz"
      },
      "source": [
        "두 모델이 동일한 파라미터 수를 가지고 있더라고 L2 규제를 사용한 모델이 기본 모델보다 훨씬 더 과대적합에 잘 견디고 있다."
      ]
    },
    {
      "cell_type": "code",
      "metadata": {
        "id": "y_LsWiyD-9jS"
      },
      "source": [
        "l1(0.0001) 모델과 비교\r\n"
      ],
      "execution_count": null,
      "outputs": []
    },
    {
      "cell_type": "code",
      "metadata": {
        "id": "7aMtflll_fal"
      },
      "source": [
        "l1_l2(l1=0.0001,l2=0.0001) 모델과 비교 "
      ],
      "execution_count": null,
      "outputs": []
    },
    {
      "cell_type": "markdown",
      "metadata": {
        "id": "BvmOEgnmYlq1"
      },
      "source": [
        "# 드롭아웃 추가\r\n",
        "layer_output += np.random.randint(0,high=2,size=layer_output.shape)"
      ]
    },
    {
      "cell_type": "code",
      "metadata": {
        "id": "S4LiELsgdiw0"
      },
      "source": [
        "dpt_model = models.Sequential()\r\n",
        "dpt_model.add(layers.Dense(16,activation='relu',input_shape=(10000,)))\r\n",
        "dpt_model.add(layers.Dropout(0.5))\r\n",
        "dpt_model.add(layers.Dense(16,activation='relu'))\r\n",
        "dpt_model.add(layers.Dropout(0.5))\r\n",
        "dpt_model.add(layers.Dense(1,activation='sigmoid'))"
      ],
      "execution_count": 16,
      "outputs": []
    },
    {
      "cell_type": "code",
      "metadata": {
        "colab": {
          "base_uri": "https://localhost:8080/"
        },
        "id": "OlKn0gljeFNX",
        "outputId": "eb51dc58-b284-4a64-8639-a56fd6447de7"
      },
      "source": [
        "dpt_model.compile(optimizer='rmsprop',\r\n",
        "                 loss='binary_crossentropy',\r\n",
        "                 metrics=['acc'])\r\n",
        "\r\n",
        "dpt_model_hist = dpt_model.fit(x_train,y_train,\r\n",
        "                                       epochs=20,\r\n",
        "                                       batch_size=512,\r\n",
        "                                       validation_data=(x_test,y_test))"
      ],
      "execution_count": 17,
      "outputs": [
        {
          "output_type": "stream",
          "text": [
            "Epoch 1/20\n",
            "49/49 [==============================] - 2s 30ms/step - loss: 0.6192 - acc: 0.6571 - val_loss: 0.4066 - val_acc: 0.8751\n",
            "Epoch 2/20\n",
            "49/49 [==============================] - 1s 22ms/step - loss: 0.4229 - acc: 0.8314 - val_loss: 0.3202 - val_acc: 0.8818\n",
            "Epoch 3/20\n",
            "49/49 [==============================] - 1s 22ms/step - loss: 0.3366 - acc: 0.8795 - val_loss: 0.2860 - val_acc: 0.8896\n",
            "Epoch 4/20\n",
            "49/49 [==============================] - 1s 22ms/step - loss: 0.2827 - acc: 0.9034 - val_loss: 0.2830 - val_acc: 0.8871\n",
            "Epoch 5/20\n",
            "49/49 [==============================] - 1s 22ms/step - loss: 0.2485 - acc: 0.9164 - val_loss: 0.2806 - val_acc: 0.8904\n",
            "Epoch 6/20\n",
            "49/49 [==============================] - 1s 21ms/step - loss: 0.2177 - acc: 0.9277 - val_loss: 0.3058 - val_acc: 0.8833\n",
            "Epoch 7/20\n",
            "49/49 [==============================] - 1s 22ms/step - loss: 0.2067 - acc: 0.9315 - val_loss: 0.3041 - val_acc: 0.8869\n",
            "Epoch 8/20\n",
            "49/49 [==============================] - 1s 22ms/step - loss: 0.1907 - acc: 0.9361 - val_loss: 0.3230 - val_acc: 0.8853\n",
            "Epoch 9/20\n",
            "49/49 [==============================] - 1s 22ms/step - loss: 0.1720 - acc: 0.9425 - val_loss: 0.3479 - val_acc: 0.8832\n",
            "Epoch 10/20\n",
            "49/49 [==============================] - 1s 22ms/step - loss: 0.1544 - acc: 0.9490 - val_loss: 0.3778 - val_acc: 0.8826\n",
            "Epoch 11/20\n",
            "49/49 [==============================] - 1s 22ms/step - loss: 0.1421 - acc: 0.9522 - val_loss: 0.4070 - val_acc: 0.8819\n",
            "Epoch 12/20\n",
            "49/49 [==============================] - 1s 22ms/step - loss: 0.1425 - acc: 0.9518 - val_loss: 0.4211 - val_acc: 0.8805\n",
            "Epoch 13/20\n",
            "49/49 [==============================] - 1s 22ms/step - loss: 0.1315 - acc: 0.9541 - val_loss: 0.4390 - val_acc: 0.8784\n",
            "Epoch 14/20\n",
            "49/49 [==============================] - 1s 22ms/step - loss: 0.1209 - acc: 0.9581 - val_loss: 0.4670 - val_acc: 0.8770\n",
            "Epoch 15/20\n",
            "49/49 [==============================] - 1s 22ms/step - loss: 0.1274 - acc: 0.9583 - val_loss: 0.4792 - val_acc: 0.8758\n",
            "Epoch 16/20\n",
            "49/49 [==============================] - 1s 22ms/step - loss: 0.1183 - acc: 0.9573 - val_loss: 0.4950 - val_acc: 0.8758\n",
            "Epoch 17/20\n",
            "49/49 [==============================] - 1s 22ms/step - loss: 0.1137 - acc: 0.9612 - val_loss: 0.5332 - val_acc: 0.8733\n",
            "Epoch 18/20\n",
            "49/49 [==============================] - 1s 22ms/step - loss: 0.1162 - acc: 0.9593 - val_loss: 0.5382 - val_acc: 0.8761\n",
            "Epoch 19/20\n",
            "49/49 [==============================] - 1s 22ms/step - loss: 0.1147 - acc: 0.9589 - val_loss: 0.5539 - val_acc: 0.8750\n",
            "Epoch 20/20\n",
            "49/49 [==============================] - 1s 22ms/step - loss: 0.1068 - acc: 0.9608 - val_loss: 0.5715 - val_acc: 0.8764\n"
          ],
          "name": "stdout"
        }
      ]
    },
    {
      "cell_type": "code",
      "metadata": {
        "colab": {
          "base_uri": "https://localhost:8080/",
          "height": 279
        },
        "id": "SjIwWAWFeWOG",
        "outputId": "a1af4212-1d14-4e13-a016-49cba765173d"
      },
      "source": [
        "dpt_model_val_loss = dpt_model_hist.history['val_loss']\r\n",
        "original_val_loss = original_hist.history['val_loss']\r\n",
        "plt.plot(epochs,original_val_loss,'b+',label='Original model')\r\n",
        "plt.plot(epochs,dpt_model_val_loss,'bo',label='dpt model')\r\n",
        "plt.xlabel('Epochs')\r\n",
        "plt.ylabel('Validation loss')\r\n",
        "plt.legend()\r\n",
        "plt.show()"
      ],
      "execution_count": 19,
      "outputs": [
        {
          "output_type": "display_data",
          "data": {
            "image/png": "[encoded data removed]",
            "text/plain": [
              "<Figure size 432x288 with 1 Axes>"
            ]
          },
          "metadata": {
            "tags": [],
            "needs_background": "light"
          }
        }
      ]
    },
    {
      "cell_type": "code",
      "metadata": {
        "id": "HefGjASwgFoX"
      },
      "source": [
        ""
      ],
      "execution_count": null,
      "outputs": []
    }
  ]
}