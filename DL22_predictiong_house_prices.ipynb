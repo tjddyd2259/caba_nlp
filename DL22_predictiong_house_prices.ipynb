{
  "nbformat": 4,
  "nbformat_minor": 0,
  "metadata": {
    "colab": {
      "name": "DL22_predictiong-house-prices.ipynb",
      "provenance": [],
      "authorship_tag": "ABX9TyPi2bDbLTBx0ILHdi/HlxHK",
      "include_colab_link": true
    },
    "kernelspec": {
      "name": "python3",
      "display_name": "Python 3"
    }
  },
  "cells": [
    {
      "cell_type": "markdown",
      "metadata": {
        "id": "view-in-github",
        "colab_type": "text"
      },
      "source": [
        "<a href=\"https://colab.research.google.com/github/tjddyd2259/caba_nlp/blob/main/DL22_predictiong_house_prices.ipynb\" target=\"_parent\"><img src=\"https://colab.research.google.com/assets/colab-badge.svg\" alt=\"Open In Colab\"/></a>"
      ]
    },
    {
      "cell_type": "code",
      "metadata": {
        "colab": {
          "base_uri": "https://localhost:8080/"
        },
        "id": "6T5_lUaWysbA",
        "outputId": "48d09be6-f8aa-4fcd-b729-f2efaf92d347"
      },
      "source": [
        "from keras.datasets import boston_housing\r\n",
        "(train_data,train_targets),(test_data,test_targets) = boston_housing.load_data() "
      ],
      "execution_count": 1,
      "outputs": [
        {
          "output_type": "stream",
          "text": [
            "Downloading data from https://storage.googleapis.com/tensorflow/tf-keras-datasets/boston_housing.npz\n",
            "57344/57026 [==============================] - 0s 0us/step\n"
          ],
          "name": "stdout"
        }
      ]
    },
    {
      "cell_type": "code",
      "metadata": {
        "colab": {
          "base_uri": "https://localhost:8080/"
        },
        "id": "2L1qBMAX0UKZ",
        "outputId": "6d715713-aec9-4afe-9e0e-53f94dec202c"
      },
      "source": [
        "train_data.shape"
      ],
      "execution_count": null,
      "outputs": [
        {
          "output_type": "execute_result",
          "data": {
            "text/plain": [
              "(404, 13)"
            ]
          },
          "metadata": {
            "tags": []
          },
          "execution_count": 5
        }
      ]
    },
    {
      "cell_type": "code",
      "metadata": {
        "colab": {
          "base_uri": "https://localhost:8080/"
        },
        "id": "jk7r4Uba0WjJ",
        "outputId": "393a5ec7-00fc-4531-8fdf-8c33c4252394"
      },
      "source": [
        "train_data[:5]"
      ],
      "execution_count": null,
      "outputs": [
        {
          "output_type": "execute_result",
          "data": {
            "text/plain": [
              "array([[1.23247e+00, 0.00000e+00, 8.14000e+00, 0.00000e+00, 5.38000e-01,\n",
              "        6.14200e+00, 9.17000e+01, 3.97690e+00, 4.00000e+00, 3.07000e+02,\n",
              "        2.10000e+01, 3.96900e+02, 1.87200e+01],\n",
              "       [2.17700e-02, 8.25000e+01, 2.03000e+00, 0.00000e+00, 4.15000e-01,\n",
              "        7.61000e+00, 1.57000e+01, 6.27000e+00, 2.00000e+00, 3.48000e+02,\n",
              "        1.47000e+01, 3.95380e+02, 3.11000e+00],\n",
              "       [4.89822e+00, 0.00000e+00, 1.81000e+01, 0.00000e+00, 6.31000e-01,\n",
              "        4.97000e+00, 1.00000e+02, 1.33250e+00, 2.40000e+01, 6.66000e+02,\n",
              "        2.02000e+01, 3.75520e+02, 3.26000e+00],\n",
              "       [3.96100e-02, 0.00000e+00, 5.19000e+00, 0.00000e+00, 5.15000e-01,\n",
              "        6.03700e+00, 3.45000e+01, 5.98530e+00, 5.00000e+00, 2.24000e+02,\n",
              "        2.02000e+01, 3.96900e+02, 8.01000e+00],\n",
              "       [3.69311e+00, 0.00000e+00, 1.81000e+01, 0.00000e+00, 7.13000e-01,\n",
              "        6.37600e+00, 8.84000e+01, 2.56710e+00, 2.40000e+01, 6.66000e+02,\n",
              "        2.02000e+01, 3.91430e+02, 1.46500e+01]])"
            ]
          },
          "metadata": {
            "tags": []
          },
          "execution_count": 7
        }
      ]
    },
    {
      "cell_type": "markdown",
      "metadata": {
        "id": "PJ4B9UC81rTt"
      },
      "source": [
        "데이터 준비\r\n",
        "상이한 스케일을 가진 값을 신경망에 주입하면 문제가 된다.\r\n",
        "특성별로 정규화한다. 입력 데이터에 있는 각 특성에 대해서 특성의 평균을 빼고 표준편차로 나눈다. "
      ]
    },
    {
      "cell_type": "code",
      "metadata": {
        "id": "L6W-uQpA1qD0"
      },
      "source": [
        "mean = train_data.mean(axis=0)\r\n",
        "train_data -= mean\r\n",
        "std = train_data.std(axis=0)\r\n",
        "train_data /= std\r\n",
        "\r\n",
        "test_data -= mean\r\n",
        "test_data /= std"
      ],
      "execution_count": 2,
      "outputs": []
    },
    {
      "cell_type": "code",
      "metadata": {
        "colab": {
          "base_uri": "https://localhost:8080/"
        },
        "id": "s5u8yiba22oj",
        "outputId": "40621562-d20b-48fb-da1a-0e473f1ede16"
      },
      "source": [
        "train_data[:5]"
      ],
      "execution_count": null,
      "outputs": [
        {
          "output_type": "execute_result",
          "data": {
            "text/plain": [
              "array([[-0.27224633, -0.48361547, -0.43576161, -0.25683275, -0.1652266 ,\n",
              "        -0.1764426 ,  0.81306188,  0.1166983 , -0.62624905, -0.59517003,\n",
              "         1.14850044,  0.44807713,  0.8252202 ],\n",
              "       [-0.40342651,  2.99178419, -1.33391162, -0.25683275, -1.21518188,\n",
              "         1.89434613, -1.91036058,  1.24758524, -0.85646254, -0.34843254,\n",
              "        -1.71818909,  0.43190599, -1.32920239],\n",
              "       [ 0.1249402 , -0.48361547,  1.0283258 , -0.25683275,  0.62864202,\n",
              "        -1.82968811,  1.11048828, -1.18743907,  1.67588577,  1.5652875 ,\n",
              "         0.78447637,  0.22061726, -1.30850006],\n",
              "       [-0.40149354, -0.48361547, -0.86940196, -0.25683275, -0.3615597 ,\n",
              "        -0.3245576 , -1.23667187,  1.10717989, -0.51114231, -1.094663  ,\n",
              "         0.78447637,  0.44807713, -0.65292624],\n",
              "       [-0.0056343 , -0.48361547,  1.0283258 , -0.25683275,  1.32861221,\n",
              "         0.15364225,  0.69480801, -0.57857203,  1.67588577,  1.5652875 ,\n",
              "         0.78447637,  0.3898823 ,  0.26349695]])"
            ]
          },
          "metadata": {
            "tags": []
          },
          "execution_count": 10
        }
      ]
    },
    {
      "cell_type": "code",
      "metadata": {
        "colab": {
          "base_uri": "https://localhost:8080/"
        },
        "id": "pttD5pE625Y2",
        "outputId": "408703f9-51af-4655-8bf3-cb79ac9e786b"
      },
      "source": [
        "print(train_data.mean())\r\n",
        "print(train_data.std())"
      ],
      "execution_count": null,
      "outputs": [
        {
          "output_type": "stream",
          "text": [
            "-3.652828230297545e-17\n",
            "0.9999999999999994\n"
          ],
          "name": "stdout"
        }
      ]
    },
    {
      "cell_type": "code",
      "metadata": {
        "id": "a7c5KULH3BGT"
      },
      "source": [
        "from keras import models\r\n",
        "from keras import layers\r\n",
        "\r\n",
        "def build_model():\r\n",
        "  model = models.Sequential()\r\n",
        "  model.add(layers.Dense(64,activation='relu',\r\n",
        "                         input_shape=(train_data.shape[1],)))\r\n",
        "  model.add(layers.Dense(64,activation='relu'))\r\n",
        "  model.add(layers.Dense(1))\r\n",
        "\r\n",
        "  model.compile(optimizer='rmsprop',loss='mse',metrics=['mean_absolute_error'])\r\n",
        "  return model"
      ],
      "execution_count": 5,
      "outputs": []
    },
    {
      "cell_type": "code",
      "metadata": {
        "colab": {
          "base_uri": "https://localhost:8080/"
        },
        "id": "KkF-sqCbW7Pp",
        "outputId": "d4f85f7d-0668-4a6c-8af6-f08fd805d356"
      },
      "source": [
        "import numpy as np\r\n",
        "\r\n",
        "k = 4\r\n",
        "num_val_samples = len(train_data) // k \r\n",
        "num_epochs = 100\r\n",
        "all_scores = [] \r\n",
        "for i in range(k):\r\n",
        "  print('처리중인 폴드 #', i)\r\n",
        "  # 검증 데이터 준비: k번째 분할\r\n",
        "  val_data = train_data[i*num_val_samples: (i+1)*num_val_samples]\r\n",
        "  val_targets = train_targets[i *num_val_samples:(i+1)*num_val_samples]\r\n",
        "\r\n",
        "  # 훈련 데이터 준비: 다른 분할 전체\r\n",
        "  partial_train_data = np.concatenate(\r\n",
        "      [train_data[:i * num_val_samples],\r\n",
        "       train_data[(i+1)*num_val_samples:]],axis=0\r\n",
        "  )\r\n",
        "  partial_train_targets = np.concatenate(\r\n",
        "      [train_targets[:i*num_val_samples],\r\n",
        "       train_targets[(i+1)*num_val_samples:]],axis=0\r\n",
        "  )\r\n",
        "\r\n",
        "  # 케라스 모델 구성 (컴파일 포함)\r\n",
        "  model = build_model()\r\n",
        "  # 모델 훈련 (verbose=0 이므로 훈련 과정이 출력되지 않습니다)\r\n",
        "  model.fit(partial_train_data,partial_train_targets,\r\n",
        "            epochs=num_epochs,batch_size=1,verbose=0)\r\n",
        "  val_mse,val_mae = model.evaluate(val_data, val_targets,verbose=0)\r\n",
        "  all_scores.append(val_mae)"
      ],
      "execution_count": 7,
      "outputs": [
        {
          "output_type": "stream",
          "text": [
            "처리중인 폴드 # 0\n",
            "처리중인 폴드 # 1\n",
            "처리중인 폴드 # 2\n",
            "처리중인 폴드 # 3\n"
          ],
          "name": "stdout"
        }
      ]
    },
    {
      "cell_type": "code",
      "metadata": {
        "colab": {
          "base_uri": "https://localhost:8080/"
        },
        "id": "nETZUdNza4ax",
        "outputId": "ea615b7f-8c0c-461f-d70c-311175f7b146"
      },
      "source": [
        "all_scores"
      ],
      "execution_count": 8,
      "outputs": [
        {
          "output_type": "execute_result",
          "data": {
            "text/plain": [
              "[2.152230978012085, 2.691237688064575, 2.482041120529175, 2.471477746963501]"
            ]
          },
          "metadata": {
            "tags": []
          },
          "execution_count": 8
        }
      ]
    },
    {
      "cell_type": "code",
      "metadata": {
        "colab": {
          "base_uri": "https://localhost:8080/"
        },
        "id": "tWrr7hu8a9Fi",
        "outputId": "37885bca-0223-4226-d3bd-665982c52da0"
      },
      "source": [
        "np.mean(all_scores)"
      ],
      "execution_count": 9,
      "outputs": [
        {
          "output_type": "execute_result",
          "data": {
            "text/plain": [
              "2.449246883392334"
            ]
          },
          "metadata": {
            "tags": []
          },
          "execution_count": 9
        }
      ]
    },
    {
      "cell_type": "code",
      "metadata": {
        "id": "fHUIrWgga_Ud"
      },
      "source": [
        "from keras import backend as K\r\n",
        "K.clear_session()"
      ],
      "execution_count": 10,
      "outputs": []
    },
    {
      "cell_type": "code",
      "metadata": {
        "colab": {
          "base_uri": "https://localhost:8080/"
        },
        "id": "ms28QUuUbE4T",
        "outputId": "441c6d79-942a-4d51-fdb7-a77f31e3b1a7"
      },
      "source": [
        "num_epochs=500\r\n",
        "all_mae_histories = []\r\n",
        "for i in range(k):\r\n",
        "  print('처리중인 폴드 #',i)\r\n",
        "  # 검증 데이터 준비 : k번째 분할\r\n",
        "  val_data = train_data[i*num_val_samples:(i+1)*num_val_samples]\r\n",
        "  val_targets = train_targets[i*num_val_samples:(i+1)*num_val_samples]\r\n",
        "\r\n",
        "  # 훈련 데이터 준비: 다른 분할 전체\r\n",
        "  partial_train_data = np.concatenate(\r\n",
        "      [train_data[:i * num_val_samples],\r\n",
        "       train_data[(i+1)*num_val_samples:]],axis=0\r\n",
        "  )\r\n",
        "  partial_train_targets = np.concatenate(\r\n",
        "      [train_targets[:i * num_val_samples],\r\n",
        "       train_targets[(i+1)*num_val_samples:]],axis=0\r\n",
        "  )\r\n",
        "\r\n",
        "  # 케라스 모델 구성(컴파일 포함)\r\n",
        "  model = build_model()\r\n",
        "  # 모델 훈련\r\n",
        "  history = model.fit(partial_train_data,partial_train_targets,\r\n",
        "                      validation_data=(val_data,val_targets),\r\n",
        "                      epochs=num_epochs,batch_size=1,verbose=0)\r\n",
        "  mae_history = history.history['val_mean_absolute_error']\r\n",
        "  all_mae_histories.append(mae_history)"
      ],
      "execution_count": 11,
      "outputs": [
        {
          "output_type": "stream",
          "text": [
            "처리중인 폴드 # 0\n",
            "처리중인 폴드 # 1\n",
            "처리중인 폴드 # 2\n",
            "처리중인 폴드 # 3\n"
          ],
          "name": "stdout"
        }
      ]
    },
    {
      "cell_type": "code",
      "metadata": {
        "id": "HTG3T7gRd1PK"
      },
      "source": [
        "average_mae_history = [np.mean([x[i]for x in all_mae_histories])for i in range(num_epochs)]"
      ],
      "execution_count": 12,
      "outputs": []
    },
    {
      "cell_type": "code",
      "metadata": {
        "colab": {
          "base_uri": "https://localhost:8080/",
          "height": 279
        },
        "id": "T5XhYXuYeGlK",
        "outputId": "7e0b3b28-9e12-4f42-8026-6baf6f66aaa5"
      },
      "source": [
        "import matplotlib.pyplot as plt\r\n",
        "plt.plot(range(1,len(average_mae_history)+1),average_mae_history)\r\n",
        "plt.xlabel('Epochs')\r\n",
        "plt.ylabel('Validation MAE')\r\n",
        "plt.show()"
      ],
      "execution_count": 13,
      "outputs": [
        {
          "output_type": "display_data",
          "data": {
            "image/png": "[encoded data removed]",
            "text/plain": [
              "<Figure size 432x288 with 1 Axes>"
            ]
          },
          "metadata": {
            "tags": [],
            "needs_background": "light"
          }
        }
      ]
    },
    {
      "cell_type": "code",
      "metadata": {
        "colab": {
          "base_uri": "https://localhost:8080/",
          "height": 279
        },
        "id": "vAiQic1aeayG",
        "outputId": "3a0aaa49-0a7e-4ec8-b9d6-ffe34a6a3179"
      },
      "source": [
        "def smooth_curve(points, factor=0.9):\r\n",
        "  smoothed_points = []\r\n",
        "  for point in points:\r\n",
        "    if smoothed_points:\r\n",
        "      previous = smoothed_points[-1]\r\n",
        "      smoothed_points.append(previous * factor + point *(1-factor))\r\n",
        "    else :\r\n",
        "      smoothed_points.append(point)\r\n",
        "  return smoothed_points\r\n",
        "\r\n",
        "smooth_mae_history = smooth_curve(average_mae_history[10:])\r\n",
        "\r\n",
        "plt.plot(range(1,len(smooth_mae_history)+1),smooth_mae_history)\r\n",
        "plt.xlabel('Epochs')\r\n",
        "plt.ylabel('Validation MAE')\r\n",
        "plt.show()"
      ],
      "execution_count": 16,
      "outputs": [
        {
          "output_type": "display_data",
          "data": {
            "image/png": "[encoded data removed]",
            "text/plain": [
              "<Figure size 432x288 with 1 Axes>"
            ]
          },
          "metadata": {
            "tags": [],
            "needs_background": "light"
          }
        }
      ]
    },
    {
      "cell_type": "code",
      "metadata": {
        "colab": {
          "base_uri": "https://localhost:8080/"
        },
        "id": "leYhTBkCfZCE",
        "outputId": "abc33882-f06a-48a8-86fb-6793e6ec9427"
      },
      "source": [
        "model = build_model()\r\n",
        "model.fit(train_data,train_targets,\r\n",
        "          epochs=80,batch_size=16,verbose=1)\r\n",
        "test_mse_score, test_mae_score = model.evaluate(test_data,test_targets)"
      ],
      "execution_count": 17,
      "outputs": [
        {
          "output_type": "stream",
          "text": [
            "Epoch 1/80\n",
            "26/26 [==============================] - 1s 1ms/step - loss: 520.9136 - mean_absolute_error: 20.8210\n",
            "Epoch 2/80\n",
            "26/26 [==============================] - 0s 1ms/step - loss: 309.7888 - mean_absolute_error: 15.5579\n",
            "Epoch 3/80\n",
            "26/26 [==============================] - 0s 2ms/step - loss: 147.6628 - mean_absolute_error: 9.6934\n",
            "Epoch 4/80\n",
            "26/26 [==============================] - 0s 1ms/step - loss: 55.7158 - mean_absolute_error: 5.5969\n",
            "Epoch 5/80\n",
            "26/26 [==============================] - 0s 1ms/step - loss: 32.6723 - mean_absolute_error: 4.0329\n",
            "Epoch 6/80\n",
            "26/26 [==============================] - 0s 1ms/step - loss: 31.1847 - mean_absolute_error: 3.9132\n",
            "Epoch 7/80\n",
            "26/26 [==============================] - 0s 1ms/step - loss: 23.8233 - mean_absolute_error: 3.1494\n",
            "Epoch 8/80\n",
            "26/26 [==============================] - 0s 1ms/step - loss: 20.3773 - mean_absolute_error: 3.0071\n",
            "Epoch 9/80\n",
            "26/26 [==============================] - 0s 1ms/step - loss: 19.5086 - mean_absolute_error: 2.9430\n",
            "Epoch 10/80\n",
            "26/26 [==============================] - 0s 1ms/step - loss: 15.3334 - mean_absolute_error: 2.7758\n",
            "Epoch 11/80\n",
            "26/26 [==============================] - 0s 1ms/step - loss: 14.7952 - mean_absolute_error: 2.7517\n",
            "Epoch 12/80\n",
            "26/26 [==============================] - 0s 2ms/step - loss: 12.1539 - mean_absolute_error: 2.4884\n",
            "Epoch 13/80\n",
            "26/26 [==============================] - 0s 1ms/step - loss: 11.8569 - mean_absolute_error: 2.4170\n",
            "Epoch 14/80\n",
            "26/26 [==============================] - 0s 1ms/step - loss: 12.8538 - mean_absolute_error: 2.4504\n",
            "Epoch 15/80\n",
            "26/26 [==============================] - 0s 1ms/step - loss: 11.3798 - mean_absolute_error: 2.3398\n",
            "Epoch 16/80\n",
            "26/26 [==============================] - 0s 1ms/step - loss: 11.6744 - mean_absolute_error: 2.2930\n",
            "Epoch 17/80\n",
            "26/26 [==============================] - 0s 2ms/step - loss: 9.1625 - mean_absolute_error: 2.1932\n",
            "Epoch 18/80\n",
            "26/26 [==============================] - 0s 1ms/step - loss: 10.9746 - mean_absolute_error: 2.3229\n",
            "Epoch 19/80\n",
            "26/26 [==============================] - 0s 1ms/step - loss: 9.9288 - mean_absolute_error: 2.2177\n",
            "Epoch 20/80\n",
            "26/26 [==============================] - 0s 1ms/step - loss: 10.2118 - mean_absolute_error: 2.1936\n",
            "Epoch 21/80\n",
            "26/26 [==============================] - 0s 1ms/step - loss: 10.4637 - mean_absolute_error: 2.2315\n",
            "Epoch 22/80\n",
            "26/26 [==============================] - 0s 2ms/step - loss: 11.7212 - mean_absolute_error: 2.2680\n",
            "Epoch 23/80\n",
            "26/26 [==============================] - 0s 1ms/step - loss: 7.8238 - mean_absolute_error: 2.0175\n",
            "Epoch 24/80\n",
            "26/26 [==============================] - 0s 1ms/step - loss: 8.8777 - mean_absolute_error: 2.2170\n",
            "Epoch 25/80\n",
            "26/26 [==============================] - 0s 1ms/step - loss: 8.6751 - mean_absolute_error: 2.0724\n",
            "Epoch 26/80\n",
            "26/26 [==============================] - 0s 1ms/step - loss: 8.3870 - mean_absolute_error: 2.1530\n",
            "Epoch 27/80\n",
            "26/26 [==============================] - 0s 1ms/step - loss: 10.2798 - mean_absolute_error: 2.1849\n",
            "Epoch 28/80\n",
            "26/26 [==============================] - 0s 2ms/step - loss: 7.1306 - mean_absolute_error: 1.9499\n",
            "Epoch 29/80\n",
            "26/26 [==============================] - 0s 1ms/step - loss: 8.8577 - mean_absolute_error: 2.1169\n",
            "Epoch 30/80\n",
            "26/26 [==============================] - 0s 1ms/step - loss: 7.0246 - mean_absolute_error: 1.8737\n",
            "Epoch 31/80\n",
            "26/26 [==============================] - 0s 1ms/step - loss: 10.6379 - mean_absolute_error: 2.1864\n",
            "Epoch 32/80\n",
            "26/26 [==============================] - 0s 1ms/step - loss: 7.5490 - mean_absolute_error: 1.9466\n",
            "Epoch 33/80\n",
            "26/26 [==============================] - 0s 1ms/step - loss: 8.9127 - mean_absolute_error: 2.1845\n",
            "Epoch 34/80\n",
            "26/26 [==============================] - 0s 1ms/step - loss: 8.2851 - mean_absolute_error: 2.0248\n",
            "Epoch 35/80\n",
            "26/26 [==============================] - 0s 1ms/step - loss: 8.5606 - mean_absolute_error: 2.1236\n",
            "Epoch 36/80\n",
            "26/26 [==============================] - 0s 1ms/step - loss: 7.7721 - mean_absolute_error: 2.0040\n",
            "Epoch 37/80\n",
            "26/26 [==============================] - 0s 2ms/step - loss: 7.9542 - mean_absolute_error: 2.0407\n",
            "Epoch 38/80\n",
            "26/26 [==============================] - 0s 1ms/step - loss: 8.1128 - mean_absolute_error: 1.9734\n",
            "Epoch 39/80\n",
            "26/26 [==============================] - 0s 1ms/step - loss: 6.9860 - mean_absolute_error: 1.9086\n",
            "Epoch 40/80\n",
            "26/26 [==============================] - 0s 1ms/step - loss: 7.1346 - mean_absolute_error: 1.8829\n",
            "Epoch 41/80\n",
            "26/26 [==============================] - 0s 1ms/step - loss: 6.8458 - mean_absolute_error: 1.7819\n",
            "Epoch 42/80\n",
            "26/26 [==============================] - 0s 2ms/step - loss: 7.0685 - mean_absolute_error: 1.9675\n",
            "Epoch 43/80\n",
            "26/26 [==============================] - 0s 1ms/step - loss: 9.5566 - mean_absolute_error: 1.9366\n",
            "Epoch 44/80\n",
            "26/26 [==============================] - 0s 1ms/step - loss: 6.4341 - mean_absolute_error: 1.8091\n",
            "Epoch 45/80\n",
            "26/26 [==============================] - 0s 1ms/step - loss: 6.3445 - mean_absolute_error: 1.8882\n",
            "Epoch 46/80\n",
            "26/26 [==============================] - 0s 2ms/step - loss: 6.2119 - mean_absolute_error: 1.7999\n",
            "Epoch 47/80\n",
            "26/26 [==============================] - 0s 2ms/step - loss: 8.5340 - mean_absolute_error: 1.9011\n",
            "Epoch 48/80\n",
            "26/26 [==============================] - 0s 1ms/step - loss: 9.2968 - mean_absolute_error: 2.0208\n",
            "Epoch 49/80\n",
            "26/26 [==============================] - 0s 1ms/step - loss: 7.1588 - mean_absolute_error: 1.8753\n",
            "Epoch 50/80\n",
            "26/26 [==============================] - 0s 1ms/step - loss: 6.5107 - mean_absolute_error: 1.8732\n",
            "Epoch 51/80\n",
            "26/26 [==============================] - 0s 1ms/step - loss: 7.8439 - mean_absolute_error: 1.9725\n",
            "Epoch 52/80\n",
            "26/26 [==============================] - 0s 2ms/step - loss: 7.7845 - mean_absolute_error: 1.8679\n",
            "Epoch 53/80\n",
            "26/26 [==============================] - 0s 1ms/step - loss: 5.5850 - mean_absolute_error: 1.8101\n",
            "Epoch 54/80\n",
            "26/26 [==============================] - 0s 1ms/step - loss: 7.8541 - mean_absolute_error: 1.8345\n",
            "Epoch 55/80\n",
            "26/26 [==============================] - 0s 2ms/step - loss: 5.4483 - mean_absolute_error: 1.7029\n",
            "Epoch 56/80\n",
            "26/26 [==============================] - 0s 2ms/step - loss: 5.7861 - mean_absolute_error: 1.7733\n",
            "Epoch 57/80\n",
            "26/26 [==============================] - 0s 1ms/step - loss: 6.8046 - mean_absolute_error: 1.8502\n",
            "Epoch 58/80\n",
            "26/26 [==============================] - 0s 1ms/step - loss: 5.3673 - mean_absolute_error: 1.7577\n",
            "Epoch 59/80\n",
            "26/26 [==============================] - 0s 1ms/step - loss: 7.6414 - mean_absolute_error: 1.9665\n",
            "Epoch 60/80\n",
            "26/26 [==============================] - 0s 1ms/step - loss: 6.2192 - mean_absolute_error: 1.8165\n",
            "Epoch 61/80\n",
            "26/26 [==============================] - 0s 2ms/step - loss: 6.3438 - mean_absolute_error: 1.7987\n",
            "Epoch 62/80\n",
            "26/26 [==============================] - 0s 1ms/step - loss: 6.6582 - mean_absolute_error: 1.8373\n",
            "Epoch 63/80\n",
            "26/26 [==============================] - 0s 1ms/step - loss: 6.5492 - mean_absolute_error: 1.8488\n",
            "Epoch 64/80\n",
            "26/26 [==============================] - 0s 1ms/step - loss: 6.7421 - mean_absolute_error: 1.8459\n",
            "Epoch 65/80\n",
            "26/26 [==============================] - 0s 1ms/step - loss: 6.5963 - mean_absolute_error: 1.7948\n",
            "Epoch 66/80\n",
            "26/26 [==============================] - 0s 1ms/step - loss: 5.7231 - mean_absolute_error: 1.7181\n",
            "Epoch 67/80\n",
            "26/26 [==============================] - 0s 1ms/step - loss: 6.1341 - mean_absolute_error: 1.7576\n",
            "Epoch 68/80\n",
            "26/26 [==============================] - 0s 1ms/step - loss: 6.4351 - mean_absolute_error: 1.7409\n",
            "Epoch 69/80\n",
            "26/26 [==============================] - 0s 2ms/step - loss: 6.0578 - mean_absolute_error: 1.7203\n",
            "Epoch 70/80\n",
            "26/26 [==============================] - 0s 1ms/step - loss: 5.1666 - mean_absolute_error: 1.7123\n",
            "Epoch 71/80\n",
            "26/26 [==============================] - 0s 1ms/step - loss: 4.1663 - mean_absolute_error: 1.5282\n",
            "Epoch 72/80\n",
            "26/26 [==============================] - 0s 1ms/step - loss: 5.7282 - mean_absolute_error: 1.7144\n",
            "Epoch 73/80\n",
            "26/26 [==============================] - 0s 1ms/step - loss: 4.4399 - mean_absolute_error: 1.5771\n",
            "Epoch 74/80\n",
            "26/26 [==============================] - 0s 1ms/step - loss: 5.6829 - mean_absolute_error: 1.7182\n",
            "Epoch 75/80\n",
            "26/26 [==============================] - 0s 1ms/step - loss: 5.2869 - mean_absolute_error: 1.6814\n",
            "Epoch 76/80\n",
            "26/26 [==============================] - 0s 2ms/step - loss: 5.9590 - mean_absolute_error: 1.6876\n",
            "Epoch 77/80\n",
            "26/26 [==============================] - 0s 1ms/step - loss: 5.4019 - mean_absolute_error: 1.6577\n",
            "Epoch 78/80\n",
            "26/26 [==============================] - 0s 1ms/step - loss: 4.8578 - mean_absolute_error: 1.6169\n",
            "Epoch 79/80\n",
            "26/26 [==============================] - 0s 1ms/step - loss: 6.1723 - mean_absolute_error: 1.8025\n",
            "Epoch 80/80\n",
            "26/26 [==============================] - 0s 1ms/step - loss: 5.0442 - mean_absolute_error: 1.6503\n",
            "4/4 [==============================] - 0s 3ms/step - loss: 17.8389 - mean_absolute_error: 2.7037\n"
          ],
          "name": "stdout"
        }
      ]
    },
    {
      "cell_type": "code",
      "metadata": {
        "colab": {
          "base_uri": "https://localhost:8080/"
        },
        "id": "vFvJiFoGfp2m",
        "outputId": "6efdbf7a-4297-4035-e9db-051241eb1afb"
      },
      "source": [
        "test_mae_score"
      ],
      "execution_count": 18,
      "outputs": [
        {
          "output_type": "execute_result",
          "data": {
            "text/plain": [
              "2.703684091567993"
            ]
          },
          "metadata": {
            "tags": []
          },
          "execution_count": 18
        }
      ]
    }
  ]
}